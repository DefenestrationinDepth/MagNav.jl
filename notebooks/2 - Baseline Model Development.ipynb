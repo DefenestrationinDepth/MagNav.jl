{
 "cells": [
  {
   "cell_type": "markdown",
   "metadata": {},
   "source": [
    "# Baseline Model Development"
   ]
  },
  {
   "cell_type": "markdown",
   "metadata": {},
   "source": [
    "## Import packages"
   ]
  },
  {
   "cell_type": "code",
   "execution_count": 72,
   "metadata": {},
   "outputs": [],
   "source": [
    "import numpy as np\n",
    "import matplotlib.pyplot as plt\n",
    "import pandas as pd\n",
    "import tensorflow as tf\n",
    "#import h5py"
   ]
  },
  {
   "cell_type": "markdown",
   "metadata": {},
   "source": [
    "## Import data"
   ]
  },
  {
   "cell_type": "markdown",
   "metadata": {},
   "source": [
    "### Flight Data"
   ]
  },
  {
   "cell_type": "code",
   "execution_count": 73,
   "metadata": {},
   "outputs": [
    {
     "name": "stdout",
     "output_type": "stream",
     "text": [
      "Flt1002-magnetometers.csv  Flt1002-train.h5  Flt1004-train.h5\r\n",
      "Flt1002-magnetometers.h5   Flt1003-train.h5  Flt1005-train.h5\r\n"
     ]
    }
   ],
   "source": [
    "!ls /home/gridsan/mokeeffe/magnav/flight_data/"
   ]
  },
  {
   "cell_type": "code",
   "execution_count": 75,
   "metadata": {},
   "outputs": [],
   "source": [
    "# Reading hdf files not working on Supercloud using h5py or pandas.read_hdf\n",
    "# flight_data = pd.read_hdf(\"/home/gridsan/mokeeffe/magnav/flight_data/Flt1002-magnetometers.h5\", key='df')\n",
    "flight_data = pd.read_csv(\"/home/gridsan/mokeeffe/magnav/flight_data/Flt1002-magnetometers.csv\")"
   ]
  },
  {
   "cell_type": "code",
   "execution_count": 76,
   "metadata": {},
   "outputs": [
    {
     "data": {
      "text/html": [
       "<div>\n",
       "<style scoped>\n",
       "    .dataframe tbody tr th:only-of-type {\n",
       "        vertical-align: middle;\n",
       "    }\n",
       "\n",
       "    .dataframe tbody tr th {\n",
       "        vertical-align: top;\n",
       "    }\n",
       "\n",
       "    .dataframe thead th {\n",
       "        text-align: right;\n",
       "    }\n",
       "</style>\n",
       "<table border=\"1\" class=\"dataframe\">\n",
       "  <thead>\n",
       "    <tr style=\"text-align: right;\">\n",
       "      <th></th>\n",
       "      <th>Unnamed: 0</th>\n",
       "      <th>tt</th>\n",
       "      <th>flux_b_t</th>\n",
       "      <th>flux_b_x</th>\n",
       "      <th>flux_b_y</th>\n",
       "      <th>flux_b_z</th>\n",
       "      <th>flux_c_t</th>\n",
       "      <th>flux_c_x</th>\n",
       "      <th>flux_c_y</th>\n",
       "      <th>flux_c_z</th>\n",
       "      <th>...</th>\n",
       "      <th>flux_d_z</th>\n",
       "      <th>mag_1_c</th>\n",
       "      <th>mag_1_dc</th>\n",
       "      <th>mag_1_igrf</th>\n",
       "      <th>mag_1_lag</th>\n",
       "      <th>mag_1_uc</th>\n",
       "      <th>mag_2_uc</th>\n",
       "      <th>mag_3_uc</th>\n",
       "      <th>mag_4_uc</th>\n",
       "      <th>mag_5_uc</th>\n",
       "    </tr>\n",
       "  </thead>\n",
       "  <tbody>\n",
       "    <tr>\n",
       "      <th>0</th>\n",
       "      <td>0</td>\n",
       "      <td>45100.0</td>\n",
       "      <td>53533.107</td>\n",
       "      <td>28294.945</td>\n",
       "      <td>44045.834</td>\n",
       "      <td>11182.849</td>\n",
       "      <td>54584.776</td>\n",
       "      <td>-48636.719</td>\n",
       "      <td>-23909.552</td>\n",
       "      <td>-6496.585</td>\n",
       "      <td>...</td>\n",
       "      <td>-5872.882</td>\n",
       "      <td>53516.740</td>\n",
       "      <td>53522.679</td>\n",
       "      <td>-297.343</td>\n",
       "      <td>53519.854</td>\n",
       "      <td>53519.161</td>\n",
       "      <td>51888.734</td>\n",
       "      <td>51816.828</td>\n",
       "      <td>52644.111</td>\n",
       "      <td>53644.934</td>\n",
       "    </tr>\n",
       "    <tr>\n",
       "      <th>1</th>\n",
       "      <td>1</td>\n",
       "      <td>45100.1</td>\n",
       "      <td>53534.123</td>\n",
       "      <td>28489.807</td>\n",
       "      <td>43945.789</td>\n",
       "      <td>11087.419</td>\n",
       "      <td>54600.732</td>\n",
       "      <td>-48719.451</td>\n",
       "      <td>-23833.611</td>\n",
       "      <td>-6288.771</td>\n",
       "      <td>...</td>\n",
       "      <td>-5662.137</td>\n",
       "      <td>53517.734</td>\n",
       "      <td>53523.780</td>\n",
       "      <td>-296.223</td>\n",
       "      <td>53520.954</td>\n",
       "      <td>53520.123</td>\n",
       "      <td>51875.519</td>\n",
       "      <td>51836.852</td>\n",
       "      <td>52639.238</td>\n",
       "      <td>53650.004</td>\n",
       "    </tr>\n",
       "    <tr>\n",
       "      <th>2</th>\n",
       "      <td>2</td>\n",
       "      <td>45100.2</td>\n",
       "      <td>53535.215</td>\n",
       "      <td>28664.771</td>\n",
       "      <td>43859.696</td>\n",
       "      <td>10983.422</td>\n",
       "      <td>54615.024</td>\n",
       "      <td>-48800.914</td>\n",
       "      <td>-23747.780</td>\n",
       "      <td>-6105.427</td>\n",
       "      <td>...</td>\n",
       "      <td>-5477.210</td>\n",
       "      <td>53518.757</td>\n",
       "      <td>53524.904</td>\n",
       "      <td>-295.079</td>\n",
       "      <td>53522.078</td>\n",
       "      <td>53521.114</td>\n",
       "      <td>51858.647</td>\n",
       "      <td>51852.404</td>\n",
       "      <td>52634.938</td>\n",
       "      <td>53656.292</td>\n",
       "    </tr>\n",
       "    <tr>\n",
       "      <th>3</th>\n",
       "      <td>3</td>\n",
       "      <td>45100.3</td>\n",
       "      <td>53536.381</td>\n",
       "      <td>28817.314</td>\n",
       "      <td>43788.425</td>\n",
       "      <td>10875.071</td>\n",
       "      <td>54627.602</td>\n",
       "      <td>-48879.150</td>\n",
       "      <td>-23656.250</td>\n",
       "      <td>-5947.409</td>\n",
       "      <td>...</td>\n",
       "      <td>-5319.580</td>\n",
       "      <td>53519.817</td>\n",
       "      <td>53526.025</td>\n",
       "      <td>-293.939</td>\n",
       "      <td>53523.199</td>\n",
       "      <td>53522.145</td>\n",
       "      <td>51838.810</td>\n",
       "      <td>51861.915</td>\n",
       "      <td>52631.027</td>\n",
       "      <td>53662.324</td>\n",
       "    </tr>\n",
       "    <tr>\n",
       "      <th>4</th>\n",
       "      <td>4</td>\n",
       "      <td>45100.4</td>\n",
       "      <td>53537.604</td>\n",
       "      <td>28944.894</td>\n",
       "      <td>43732.820</td>\n",
       "      <td>10766.830</td>\n",
       "      <td>54638.511</td>\n",
       "      <td>-48952.235</td>\n",
       "      <td>-23563.447</td>\n",
       "      <td>-5815.530</td>\n",
       "      <td>...</td>\n",
       "      <td>-5189.712</td>\n",
       "      <td>53520.918</td>\n",
       "      <td>53527.123</td>\n",
       "      <td>-292.821</td>\n",
       "      <td>53524.298</td>\n",
       "      <td>53523.217</td>\n",
       "      <td>51818.311</td>\n",
       "      <td>51865.431</td>\n",
       "      <td>52627.730</td>\n",
       "      <td>53666.836</td>\n",
       "    </tr>\n",
       "  </tbody>\n",
       "</table>\n",
       "<p>5 rows × 23 columns</p>\n",
       "</div>"
      ],
      "text/plain": [
       "   Unnamed: 0       tt   flux_b_t   flux_b_x   flux_b_y   flux_b_z   flux_c_t  \\\n",
       "0           0  45100.0  53533.107  28294.945  44045.834  11182.849  54584.776   \n",
       "1           1  45100.1  53534.123  28489.807  43945.789  11087.419  54600.732   \n",
       "2           2  45100.2  53535.215  28664.771  43859.696  10983.422  54615.024   \n",
       "3           3  45100.3  53536.381  28817.314  43788.425  10875.071  54627.602   \n",
       "4           4  45100.4  53537.604  28944.894  43732.820  10766.830  54638.511   \n",
       "\n",
       "    flux_c_x   flux_c_y  flux_c_z  ...  flux_d_z    mag_1_c   mag_1_dc  \\\n",
       "0 -48636.719 -23909.552 -6496.585  ... -5872.882  53516.740  53522.679   \n",
       "1 -48719.451 -23833.611 -6288.771  ... -5662.137  53517.734  53523.780   \n",
       "2 -48800.914 -23747.780 -6105.427  ... -5477.210  53518.757  53524.904   \n",
       "3 -48879.150 -23656.250 -5947.409  ... -5319.580  53519.817  53526.025   \n",
       "4 -48952.235 -23563.447 -5815.530  ... -5189.712  53520.918  53527.123   \n",
       "\n",
       "   mag_1_igrf  mag_1_lag   mag_1_uc   mag_2_uc   mag_3_uc   mag_4_uc  \\\n",
       "0    -297.343  53519.854  53519.161  51888.734  51816.828  52644.111   \n",
       "1    -296.223  53520.954  53520.123  51875.519  51836.852  52639.238   \n",
       "2    -295.079  53522.078  53521.114  51858.647  51852.404  52634.938   \n",
       "3    -293.939  53523.199  53522.145  51838.810  51861.915  52631.027   \n",
       "4    -292.821  53524.298  53523.217  51818.311  51865.431  52627.730   \n",
       "\n",
       "    mag_5_uc  \n",
       "0  53644.934  \n",
       "1  53650.004  \n",
       "2  53656.292  \n",
       "3  53662.324  \n",
       "4  53666.836  \n",
       "\n",
       "[5 rows x 23 columns]"
      ]
     },
     "execution_count": 76,
     "metadata": {},
     "output_type": "execute_result"
    }
   ],
   "source": [
    "flight_data.head()"
   ]
  },
  {
   "cell_type": "markdown",
   "metadata": {},
   "source": [
    "### Preprocessed Data"
   ]
  },
  {
   "cell_type": "markdown",
   "metadata": {},
   "source": [
    "Let's import the preprocessed magnetometer data, to which we have applied Tolles-Lawson calibration, and corrections for diurnal and core field variations. "
   ]
  },
  {
   "cell_type": "code",
   "execution_count": 77,
   "metadata": {},
   "outputs": [],
   "source": [
    "mag_1_TL = pd.read_csv(\"/home/gridsan/mokeeffe/magnav/preprocessed_data/mag_1_c.csv\", header=None, names=[\"mag_1_TL\"])\n",
    "mag_3_TL = pd.read_csv(\"/home/gridsan/mokeeffe/magnav/preprocessed_data/mag_3_c.csv\", header=None, names=[\"mag_3_TL\"])\n",
    "mag_5_TL = pd.read_csv(\"/home/gridsan/mokeeffe/magnav/preprocessed_data/mag_5_c.csv\", header=None, names=[\"mag_5_TL\"])"
   ]
  },
  {
   "cell_type": "code",
   "execution_count": 78,
   "metadata": {},
   "outputs": [
    {
     "data": {
      "text/html": [
       "<div>\n",
       "<style scoped>\n",
       "    .dataframe tbody tr th:only-of-type {\n",
       "        vertical-align: middle;\n",
       "    }\n",
       "\n",
       "    .dataframe tbody tr th {\n",
       "        vertical-align: top;\n",
       "    }\n",
       "\n",
       "    .dataframe thead th {\n",
       "        text-align: right;\n",
       "    }\n",
       "</style>\n",
       "<table border=\"1\" class=\"dataframe\">\n",
       "  <thead>\n",
       "    <tr style=\"text-align: right;\">\n",
       "      <th></th>\n",
       "      <th>mag_1_TL</th>\n",
       "      <th>mag_3_TL</th>\n",
       "      <th>mag_5_TL</th>\n",
       "    </tr>\n",
       "  </thead>\n",
       "  <tbody>\n",
       "    <tr>\n",
       "      <th>0</th>\n",
       "      <td>-300.437677</td>\n",
       "      <td>-1033.112280</td>\n",
       "      <td>-49.709221</td>\n",
       "    </tr>\n",
       "    <tr>\n",
       "      <th>1</th>\n",
       "      <td>-299.428646</td>\n",
       "      <td>-1028.635159</td>\n",
       "      <td>-45.329437</td>\n",
       "    </tr>\n",
       "    <tr>\n",
       "      <th>2</th>\n",
       "      <td>-298.388462</td>\n",
       "      <td>-1026.268370</td>\n",
       "      <td>-39.541183</td>\n",
       "    </tr>\n",
       "    <tr>\n",
       "      <th>3</th>\n",
       "      <td>-297.310545</td>\n",
       "      <td>-1028.438106</td>\n",
       "      <td>-34.057425</td>\n",
       "    </tr>\n",
       "    <tr>\n",
       "      <th>4</th>\n",
       "      <td>-296.192719</td>\n",
       "      <td>-1034.782676</td>\n",
       "      <td>-30.108781</td>\n",
       "    </tr>\n",
       "  </tbody>\n",
       "</table>\n",
       "</div>"
      ],
      "text/plain": [
       "     mag_1_TL     mag_3_TL   mag_5_TL\n",
       "0 -300.437677 -1033.112280 -49.709221\n",
       "1 -299.428646 -1028.635159 -45.329437\n",
       "2 -298.388462 -1026.268370 -39.541183\n",
       "3 -297.310545 -1028.438106 -34.057425\n",
       "4 -296.192719 -1034.782676 -30.108781"
      ]
     },
     "execution_count": 78,
     "metadata": {},
     "output_type": "execute_result"
    }
   ],
   "source": [
    "mags_TL = pd.concat([mag_1_TL, mag_3_TL, mag_5_TL], axis=1)\n",
    "mags_TL.head()"
   ]
  },
  {
   "cell_type": "markdown",
   "metadata": {},
   "source": [
    "The min and max indices in MagNav.jl for the calibration 1 line were 12702 and 25002, respectively (note, Julia is 1 indexed and Python is 0 indexed, so we'll subtract 1). Let's plot the three calibrated magnetometers to make sure they look the same as in the first lesson notebook. Even though we just saved from a Julia array into a `.csv` file and loaded into a pandas `DataFrame` here, it's good to check that it worked. "
   ]
  },
  {
   "cell_type": "code",
   "execution_count": 96,
   "metadata": {},
   "outputs": [
    {
     "data": {
      "text/plain": [
       "<Figure size 1152x864 with 0 Axes>"
      ]
     },
     "metadata": {},
     "output_type": "display_data"
    },
    {
     "data": {
      "image/png": "[encoded data removed]",
      "text/plain": [
       "<Figure size 432x288 with 1 Axes>"
      ]
     },
     "metadata": {
      "needs_background": "light"
     },
     "output_type": "display_data"
    }
   ],
   "source": [
    "plt.figure(figsize=(16,12))\n",
    "mags_TL[12701:25001].plot()\n",
    "plt.xlabel(\"Time Step\")\n",
    "plt.ylabel(\"Magnetic Field [nT]\")\n",
    "plt.show()"
   ]
  },
  {
   "cell_type": "markdown",
   "metadata": {},
   "source": [
    "## Prepare data for model development"
   ]
  },
  {
   "cell_type": "markdown",
   "metadata": {},
   "source": [
    "Combine the original and processed data into a single dataframe."
   ]
  },
  {
   "cell_type": "code",
   "execution_count": 97,
   "metadata": {},
   "outputs": [],
   "source": [
    "df = pd.concat([flight_data, mags_TL], axis=1)"
   ]
  },
  {
   "cell_type": "code",
   "execution_count": 98,
   "metadata": {},
   "outputs": [
    {
     "data": {
      "text/plain": [
       "flux_b_t    float64\n",
       "flux_b_x    float64\n",
       "flux_b_y    float64\n",
       "flux_b_z    float64\n",
       "flux_c_t    float64\n",
       "flux_c_x    float64\n",
       "flux_c_y    float64\n",
       "flux_c_z    float64\n",
       "flux_d_t    float64\n",
       "flux_d_x    float64\n",
       "flux_d_y    float64\n",
       "flux_d_z    float64\n",
       "mag_1_c     float64\n",
       "mag_3_uc    float64\n",
       "mag_3_TL    float64\n",
       "dtype: object"
      ]
     },
     "execution_count": 98,
     "metadata": {},
     "output_type": "execute_result"
    }
   ],
   "source": [
    "df_test = df.drop(columns=[df.columns[0], 'tt', 'mag_1_dc', 'mag_1_igrf', 'mag_1_lag', 'mag_1_uc', 'mag_2_uc', 'mag_4_uc', 'mag_5_uc', 'mag_1_TL', 'mag_5_TL'], inplace=True)\n",
    "df.dtypes"
   ]
  },
  {
   "cell_type": "code",
   "execution_count": 99,
   "metadata": {},
   "outputs": [],
   "source": [
    "target = df.pop('mag_1_c')"
   ]
  },
  {
   "cell_type": "code",
   "execution_count": 83,
   "metadata": {},
   "outputs": [],
   "source": [
    "N_dev = 30000\n",
    "dataset = tf.data.Dataset.from_tensor_slices((df.head(N_dev).values, target.head(N_dev).values))\n",
    "input_shape = dataset.element_spec[0].shape"
   ]
  },
  {
   "cell_type": "code",
   "execution_count": 84,
   "metadata": {},
   "outputs": [],
   "source": [
    "#for feat, targ in dataset.take(5):\n",
    "#    print ('Features: {}, Target: {}'.format(feat, targ))"
   ]
  },
  {
   "cell_type": "code",
   "execution_count": 85,
   "metadata": {},
   "outputs": [],
   "source": [
    "# TODO: normalize or standardize data"
   ]
  },
  {
   "cell_type": "code",
   "execution_count": 86,
   "metadata": {},
   "outputs": [],
   "source": [
    "# TODO: train/val/test split - 60/20/20"
   ]
  },
  {
   "cell_type": "code",
   "execution_count": 87,
   "metadata": {},
   "outputs": [],
   "source": [
    "train_dataset = dataset.shuffle(len(df)).batch(32)"
   ]
  },
  {
   "cell_type": "code",
   "execution_count": 88,
   "metadata": {},
   "outputs": [],
   "source": [
    "def get_compiled_model():\n",
    "    model = tf.keras.Sequential([\n",
    "    tf.keras.layers.Dense(30, activation='relu', input_shape=input_shape),\n",
    "    tf.keras.layers.Dense(30, activation='relu'),\n",
    "    tf.keras.layers.Dense(1)\n",
    "  ])\n",
    "\n",
    "    model.compile(optimizer='adam',\n",
    "                  loss=tf.keras.losses.Huber(),\n",
    "                  metrics=['mean_squared_error', 'mean_absolute_error'])\n",
    "    return model"
   ]
  },
  {
   "cell_type": "code",
   "execution_count": 89,
   "metadata": {},
   "outputs": [
    {
     "name": "stdout",
     "output_type": "stream",
     "text": [
      "Model: \"sequential_6\"\n",
      "_________________________________________________________________\n",
      "Layer (type)                 Output Shape              Param #   \n",
      "=================================================================\n",
      "dense_18 (Dense)             (None, 30)                450       \n",
      "_________________________________________________________________\n",
      "dense_19 (Dense)             (None, 30)                930       \n",
      "_________________________________________________________________\n",
      "dense_20 (Dense)             (None, 1)                 31        \n",
      "=================================================================\n",
      "Total params: 1,411\n",
      "Trainable params: 1,411\n",
      "Non-trainable params: 0\n",
      "_________________________________________________________________\n"
     ]
    }
   ],
   "source": [
    "model = get_compiled_model()\n",
    "model.summary()"
   ]
  },
  {
   "cell_type": "code",
   "execution_count": 90,
   "metadata": {},
   "outputs": [
    {
     "name": "stdout",
     "output_type": "stream",
     "text": [
      "Epoch 1/30\n",
      "938/938 [==============================] - 1s 1ms/step - loss: 1882.1117 - mean_squared_error: 64285160.0000 - mean_absolute_error: 1882.6112\n",
      "Epoch 2/30\n",
      "938/938 [==============================] - 1s 1ms/step - loss: 157.0864 - mean_squared_error: 49905.3438 - mean_absolute_error: 157.5856\n",
      "Epoch 3/30\n",
      "938/938 [==============================] - 1s 1ms/step - loss: 136.3768 - mean_squared_error: 33037.7344 - mean_absolute_error: 136.8760\n",
      "Epoch 4/30\n",
      "938/938 [==============================] - 1s 1ms/step - loss: 131.6408 - mean_squared_error: 30270.5840 - mean_absolute_error: 132.1400\n",
      "Epoch 5/30\n",
      "938/938 [==============================] - 1s 1ms/step - loss: 135.3891 - mean_squared_error: 31189.1465 - mean_absolute_error: 135.8884\n",
      "Epoch 6/30\n",
      "938/938 [==============================] - 1s 1ms/step - loss: 118.8540 - mean_squared_error: 24725.8652 - mean_absolute_error: 119.3531\n",
      "Epoch 7/30\n",
      "938/938 [==============================] - 1s 1ms/step - loss: 128.5721 - mean_squared_error: 27840.2852 - mean_absolute_error: 129.0714\n",
      "Epoch 8/30\n",
      "938/938 [==============================] - 1s 1ms/step - loss: 129.3118 - mean_squared_error: 28636.5684 - mean_absolute_error: 129.8108\n",
      "Epoch 9/30\n",
      "938/938 [==============================] - 1s 1ms/step - loss: 111.4299 - mean_squared_error: 21157.8223 - mean_absolute_error: 111.9290\n",
      "Epoch 10/30\n",
      "938/938 [==============================] - 1s 1ms/step - loss: 112.1212 - mean_squared_error: 21816.6172 - mean_absolute_error: 112.6205\n",
      "Epoch 11/30\n",
      "938/938 [==============================] - 1s 1ms/step - loss: 123.0905 - mean_squared_error: 25092.4199 - mean_absolute_error: 123.5897\n",
      "Epoch 12/30\n",
      "938/938 [==============================] - 1s 1ms/step - loss: 114.7552 - mean_squared_error: 23355.2383 - mean_absolute_error: 115.2542\n",
      "Epoch 13/30\n",
      "938/938 [==============================] - 1s 1ms/step - loss: 106.6201 - mean_squared_error: 19312.2070 - mean_absolute_error: 107.1190\n",
      "Epoch 14/30\n",
      "938/938 [==============================] - 1s 1ms/step - loss: 111.0728 - mean_squared_error: 20917.5488 - mean_absolute_error: 111.5720\n",
      "Epoch 15/30\n",
      "938/938 [==============================] - 1s 1ms/step - loss: 113.0895 - mean_squared_error: 21072.6836 - mean_absolute_error: 113.5886\n",
      "Epoch 16/30\n",
      "938/938 [==============================] - 1s 1ms/step - loss: 110.8850 - mean_squared_error: 20607.6953 - mean_absolute_error: 111.3839\n",
      "Epoch 17/30\n",
      "938/938 [==============================] - 1s 1ms/step - loss: 98.6000 - mean_squared_error: 16584.6758 - mean_absolute_error: 99.0989\n",
      "Epoch 18/30\n",
      "938/938 [==============================] - 1s 1ms/step - loss: 100.6982 - mean_squared_error: 17629.1582 - mean_absolute_error: 101.1970\n",
      "Epoch 19/30\n",
      "938/938 [==============================] - 1s 1ms/step - loss: 102.1292 - mean_squared_error: 17959.0156 - mean_absolute_error: 102.6280\n",
      "Epoch 20/30\n",
      "938/938 [==============================] - 1s 1ms/step - loss: 109.6342 - mean_squared_error: 19671.1934 - mean_absolute_error: 110.1330\n",
      "Epoch 21/30\n",
      "938/938 [==============================] - 1s 1ms/step - loss: 102.1230 - mean_squared_error: 17326.2637 - mean_absolute_error: 102.6218\n",
      "Epoch 22/30\n",
      "938/938 [==============================] - 1s 1ms/step - loss: 105.0523 - mean_squared_error: 19432.5215 - mean_absolute_error: 105.5512\n",
      "Epoch 23/30\n",
      "938/938 [==============================] - 1s 1ms/step - loss: 101.1502 - mean_squared_error: 16985.0996 - mean_absolute_error: 101.6491\n",
      "Epoch 24/30\n",
      "938/938 [==============================] - 1s 1ms/step - loss: 96.7056 - mean_squared_error: 15601.4229 - mean_absolute_error: 97.2045\n",
      "Epoch 25/30\n",
      "938/938 [==============================] - 1s 1ms/step - loss: 92.7176 - mean_squared_error: 14282.0664 - mean_absolute_error: 93.2163\n",
      "Epoch 26/30\n",
      "938/938 [==============================] - 1s 1ms/step - loss: 107.4560 - mean_squared_error: 19548.6953 - mean_absolute_error: 107.9550\n",
      "Epoch 27/30\n",
      "938/938 [==============================] - 1s 1ms/step - loss: 94.9726 - mean_squared_error: 14933.3789 - mean_absolute_error: 95.4714\n",
      "Epoch 28/30\n",
      "938/938 [==============================] - 1s 1ms/step - loss: 91.0134 - mean_squared_error: 13468.0146 - mean_absolute_error: 91.5123\n",
      "Epoch 29/30\n",
      "938/938 [==============================] - 1s 1ms/step - loss: 92.9806 - mean_squared_error: 14288.3281 - mean_absolute_error: 93.4797\n",
      "Epoch 30/30\n",
      "938/938 [==============================] - 1s 1ms/step - loss: 98.2131 - mean_squared_error: 15708.0791 - mean_absolute_error: 98.7118\n"
     ]
    }
   ],
   "source": [
    "history = model.fit(train_dataset, epochs=30)"
   ]
  },
  {
   "cell_type": "code",
   "execution_count": 91,
   "metadata": {},
   "outputs": [
    {
     "data": {
      "text/html": [
       "<div>\n",
       "<style scoped>\n",
       "    .dataframe tbody tr th:only-of-type {\n",
       "        vertical-align: middle;\n",
       "    }\n",
       "\n",
       "    .dataframe tbody tr th {\n",
       "        vertical-align: top;\n",
       "    }\n",
       "\n",
       "    .dataframe thead th {\n",
       "        text-align: right;\n",
       "    }\n",
       "</style>\n",
       "<table border=\"1\" class=\"dataframe\">\n",
       "  <thead>\n",
       "    <tr style=\"text-align: right;\">\n",
       "      <th></th>\n",
       "      <th>0</th>\n",
       "    </tr>\n",
       "  </thead>\n",
       "  <tbody>\n",
       "    <tr>\n",
       "      <th>0</th>\n",
       "      <td>53991.824219</td>\n",
       "    </tr>\n",
       "    <tr>\n",
       "      <th>1</th>\n",
       "      <td>53862.273438</td>\n",
       "    </tr>\n",
       "    <tr>\n",
       "      <th>2</th>\n",
       "      <td>54453.375000</td>\n",
       "    </tr>\n",
       "    <tr>\n",
       "      <th>3</th>\n",
       "      <td>53838.191406</td>\n",
       "    </tr>\n",
       "    <tr>\n",
       "      <th>4</th>\n",
       "      <td>53784.171875</td>\n",
       "    </tr>\n",
       "  </tbody>\n",
       "</table>\n",
       "</div>"
      ],
      "text/plain": [
       "              0\n",
       "0  53991.824219\n",
       "1  53862.273438\n",
       "2  54453.375000\n",
       "3  53838.191406\n",
       "4  53784.171875"
      ]
     },
     "execution_count": 91,
     "metadata": {},
     "output_type": "execute_result"
    }
   ],
   "source": [
    "predictions = pd.DataFrame(model.predict(train_dataset))\n",
    "predictions.head()"
   ]
  },
  {
   "cell_type": "code",
   "execution_count": 95,
   "metadata": {},
   "outputs": [
    {
     "data": {
      "text/plain": [
       "<Figure size 1152x864 with 0 Axes>"
      ]
     },
     "metadata": {},
     "output_type": "display_data"
    },
    {
     "data": {
      "image/png": "[encoded data removed]",
      "text/plain": [
       "<Figure size 432x288 with 1 Axes>"
      ]
     },
     "metadata": {
      "needs_background": "light"
     },
     "output_type": "display_data"
    },
    {
     "data": {
      "image/png": "[encoded data removed]",
      "text/plain": [
       "<Figure size 432x288 with 1 Axes>"
      ]
     },
     "metadata": {
      "needs_background": "light"
     },
     "output_type": "display_data"
    }
   ],
   "source": [
    "from scipy.signal import detrend\n",
    "plt.figure(figsize=(16,12))\n",
    "predictions[12701:25001].plot()\n",
    "mags_TL[12701:25001].plot()\n",
    "#plt.plot(detrend(predictions[12701:25001]))\n",
    "plt.xlabel(\"Time Step\")\n",
    "plt.ylabel(\"Magnetic Field [nT]\")\n",
    "plt.show()"
   ]
  },
  {
   "cell_type": "code",
   "execution_count": null,
   "metadata": {},
   "outputs": [],
   "source": []
  }
 ],
 "metadata": {
  "kernelspec": {
   "display_name": "Python [conda env:root] *",
   "language": "python",
   "name": "conda-root-py"
  },
  "language_info": {
   "codemirror_mode": {
    "name": "ipython",
    "version": 3
   },
   "file_extension": ".py",
   "mimetype": "text/x-python",
   "name": "python",
   "nbconvert_exporter": "python",
   "pygments_lexer": "ipython3",
   "version": "3.7.3"
  },
  "latex_envs": {
   "LaTeX_envs_menu_present": true,
   "autoclose": false,
   "autocomplete": true,
   "bibliofile": "biblio.bib",
   "cite_by": "apalike",
   "current_citInitial": 1,
   "eqLabelWithNumbers": true,
   "eqNumInitial": 1,
   "hotkeys": {
    "equation": "Ctrl-E",
    "itemize": "Ctrl-I"
   },
   "labels_anchors": false,
   "latex_user_defs": false,
   "report_style_numbering": false,
   "user_envs_cfg": false
  },
  "toc": {
   "base_numbering": 1,
   "nav_menu": {},
   "number_sections": true,
   "sideBar": true,
   "skip_h1_title": false,
   "title_cell": "Table of Contents",
   "title_sidebar": "Contents",
   "toc_cell": false,
   "toc_position": {},
   "toc_section_display": true,
   "toc_window_display": false
  },
  "varInspector": {
   "cols": {
    "lenName": 16,
    "lenType": 16,
    "lenVar": 40
   },
   "kernels_config": {
    "python": {
     "delete_cmd_postfix": "",
     "delete_cmd_prefix": "del ",
     "library": "var_list.py",
     "varRefreshCmd": "print(var_dic_list())"
    },
    "r": {
     "delete_cmd_postfix": ") ",
     "delete_cmd_prefix": "rm(",
     "library": "var_list.r",
     "varRefreshCmd": "cat(var_dic_list()) "
    }
   },
   "types_to_exclude": [
    "module",
    "function",
    "builtin_function_or_method",
    "instance",
    "_Feature"
   ],
   "window_display": false
  }
 },
 "nbformat": 4,
 "nbformat_minor": 2
}
