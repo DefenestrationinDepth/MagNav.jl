{
 "cells": [
  {
   "cell_type": "markdown",
   "metadata": {},
   "source": [
    "# End-to-End Machine Learning for Magnetic Navigation Platform Calibration"
   ]
  },
  {
   "cell_type": "markdown",
   "metadata": {},
   "source": [
    "As we've learned over the first few days, machine learning projects entail much more than training neural networks. In [Hands-on Machine Learning with Scikit-Learn, Keras, & TensorFlow](https://www.oreilly.com/library/view/hands-on-machine-learning/9781492032632/), a book I highly recommend, Aurelien Geron lays out the steps of an end-to-end machine learning project:\n",
    "\n",
    "1. Look at the big picture\n",
    "2. Get the data\n",
    "3. Discover and visualize the data to gain insights\n",
    "4. Prepare the data for Machine Learning algorithms\n",
    "5. Select a model and train it\n",
    "6. Fine-tune your model\n",
    "7. Present your solution\n",
    "8. Launch, monitor, and maintain your system\n",
    "\n",
    "There is a full [github repository including code](https://github.com/ageron/handson-ml2) available on github. See [Chapter 2](https://github.com/ageron/handson-ml2/blob/master/02_end_to_end_machine_learning_project.ipynb) for an example of an end-to-end project that predicts housing prices using census data. "
   ]
  },
  {
   "cell_type": "markdown",
   "metadata": {},
   "source": [
    "## Setup"
   ]
  },
  {
   "cell_type": "markdown",
   "metadata": {},
   "source": [
    "Import packages"
   ]
  },
  {
   "cell_type": "code",
   "execution_count": 1,
   "metadata": {},
   "outputs": [],
   "source": [
    "import numpy as np\n",
    "import matplotlib.pyplot as plt\n",
    "import pandas as pd\n",
    "from scipy.signal import detrend\n",
    "from pathlib import Path"
   ]
  },
  {
   "cell_type": "markdown",
   "metadata": {},
   "source": [
    "Create paths for data"
   ]
  },
  {
   "cell_type": "code",
   "execution_count": 2,
   "metadata": {},
   "outputs": [
    {
     "name": "stdout",
     "output_type": "stream",
     "text": [
      "/home/gridsan/mokeeffe/magnav/flight_data\n",
      "/home/gridsan/mokeeffe/magnav/preprocessed_data\n",
      "/home/gridsan/mokeeffe/magnav/MagNav.jl/notebooks\n"
     ]
    }
   ],
   "source": [
    "home_path = Path.home() \n",
    "flight_data_path = home_path.joinpath('magnav/flight_data')\n",
    "preprocessed_data_path = home_path.joinpath('magnav/preprocessed_data')\n",
    "notebook_path = home_path.joinpath('magnav/MagNav.jl/notebooks')\n",
    "print(flight_data_path)\n",
    "print(preprocessed_data_path)\n",
    "print(notebook_path)"
   ]
  },
  {
   "cell_type": "markdown",
   "metadata": {},
   "source": [
    "## Look at the big picture"
   ]
  },
  {
   "cell_type": "markdown",
   "metadata": {},
   "source": [
    "Magnetic navigation is an emerging technology which can be used for aerial navigation in case GPS is not available. Magnetic navigation uses maps of variations in the magnetic field originating from the crust of the earth. A navigation algorithm compares onboard measurements of the magnetic field with the map, which (combined with inertial measurements), produces an estimate of the aircraft position. \n",
    "\n",
    "But there's a catch! The magnetometers on the aircraft measure the total field, which is comprised of fields arising from the earth's core, diurnal variations, and the aircraft itself. In order to use the crustal anomaly field for navigation, the other contributions to the total field must be removed. Magnetic models and base-station measurements suffice to remove the core and diurnal fields, which leaves the platform field to remove. Unlike the other contributions, the aircraft field is difficult to isolate. \n",
    "\n",
    "The current approach to platform calibration, known as Tolles-Lawson, uses a  physics model of the aircraft fields combined with data taken during a specific flight pattern designed to maximize the contribution arising from the platform. Tolles-Lawson works well when the aircraft field is small compared to the earth field (core plus crustal), for example when the magnetometer is located in a stinger trailing the aircraft (Mag 1), but falls short for magnetometers located in the cabin (Mag 3, Mag 5). \n",
    "\n",
    "Your task is to perform platform calibration for the cabin magnetometers, getting the predicted values as close to the professionally-compensated stinger magnetometer. In addition to the uncalibrated and Tolles-Lawson calibrated scalar magnetometers, which detect the magnitude of the field, you will have measurements from vector magnetometers, which detect the three cartesian components of the field, located throughout the aircraft. Performance will be measured using root mean square error (RMSE). "
   ]
  },
  {
   "cell_type": "code",
   "execution_count": 3,
   "metadata": {},
   "outputs": [],
   "source": [
    "# TODO: Add figures \n",
    "# - magnetic map and aircraft with correct mag 1,3,5 locations\n",
    "# - Tolles Lawson pattern\n",
    "# - plot of TL mag 1,3,5 compared to compensated mag"
   ]
  },
  {
   "cell_type": "markdown",
   "metadata": {},
   "source": [
    "## Get the data"
   ]
  },
  {
   "cell_type": "markdown",
   "metadata": {},
   "source": [
    "### Flight data"
   ]
  },
  {
   "cell_type": "code",
   "execution_count": 4,
   "metadata": {},
   "outputs": [],
   "source": [
    "flight_data = pd.read_csv(flight_data_path.joinpath(\"Flt1002-magnetometers.csv\"))"
   ]
  },
  {
   "cell_type": "code",
   "execution_count": 5,
   "metadata": {},
   "outputs": [
    {
     "data": {
      "text/html": [
       "<div>\n",
       "<style scoped>\n",
       "    .dataframe tbody tr th:only-of-type {\n",
       "        vertical-align: middle;\n",
       "    }\n",
       "\n",
       "    .dataframe tbody tr th {\n",
       "        vertical-align: top;\n",
       "    }\n",
       "\n",
       "    .dataframe thead th {\n",
       "        text-align: right;\n",
       "    }\n",
       "</style>\n",
       "<table border=\"1\" class=\"dataframe\">\n",
       "  <thead>\n",
       "    <tr style=\"text-align: right;\">\n",
       "      <th></th>\n",
       "      <th>Unnamed: 0</th>\n",
       "      <th>tt</th>\n",
       "      <th>flux_b_t</th>\n",
       "      <th>flux_b_x</th>\n",
       "      <th>flux_b_y</th>\n",
       "      <th>flux_b_z</th>\n",
       "      <th>flux_c_t</th>\n",
       "      <th>flux_c_x</th>\n",
       "      <th>flux_c_y</th>\n",
       "      <th>flux_c_z</th>\n",
       "      <th>...</th>\n",
       "      <th>flux_d_z</th>\n",
       "      <th>mag_1_c</th>\n",
       "      <th>mag_1_dc</th>\n",
       "      <th>mag_1_igrf</th>\n",
       "      <th>mag_1_lag</th>\n",
       "      <th>mag_1_uc</th>\n",
       "      <th>mag_2_uc</th>\n",
       "      <th>mag_3_uc</th>\n",
       "      <th>mag_4_uc</th>\n",
       "      <th>mag_5_uc</th>\n",
       "    </tr>\n",
       "  </thead>\n",
       "  <tbody>\n",
       "    <tr>\n",
       "      <th>0</th>\n",
       "      <td>0</td>\n",
       "      <td>45100.0</td>\n",
       "      <td>53533.107</td>\n",
       "      <td>28294.945</td>\n",
       "      <td>44045.834</td>\n",
       "      <td>11182.849</td>\n",
       "      <td>54584.776</td>\n",
       "      <td>-48636.719</td>\n",
       "      <td>-23909.552</td>\n",
       "      <td>-6496.585</td>\n",
       "      <td>...</td>\n",
       "      <td>-5872.882</td>\n",
       "      <td>53516.740</td>\n",
       "      <td>53522.679</td>\n",
       "      <td>-297.343</td>\n",
       "      <td>53519.854</td>\n",
       "      <td>53519.161</td>\n",
       "      <td>51888.734</td>\n",
       "      <td>51816.828</td>\n",
       "      <td>52644.111</td>\n",
       "      <td>53644.934</td>\n",
       "    </tr>\n",
       "    <tr>\n",
       "      <th>1</th>\n",
       "      <td>1</td>\n",
       "      <td>45100.1</td>\n",
       "      <td>53534.123</td>\n",
       "      <td>28489.807</td>\n",
       "      <td>43945.789</td>\n",
       "      <td>11087.419</td>\n",
       "      <td>54600.732</td>\n",
       "      <td>-48719.451</td>\n",
       "      <td>-23833.611</td>\n",
       "      <td>-6288.771</td>\n",
       "      <td>...</td>\n",
       "      <td>-5662.137</td>\n",
       "      <td>53517.734</td>\n",
       "      <td>53523.780</td>\n",
       "      <td>-296.223</td>\n",
       "      <td>53520.954</td>\n",
       "      <td>53520.123</td>\n",
       "      <td>51875.519</td>\n",
       "      <td>51836.852</td>\n",
       "      <td>52639.238</td>\n",
       "      <td>53650.004</td>\n",
       "    </tr>\n",
       "    <tr>\n",
       "      <th>2</th>\n",
       "      <td>2</td>\n",
       "      <td>45100.2</td>\n",
       "      <td>53535.215</td>\n",
       "      <td>28664.771</td>\n",
       "      <td>43859.696</td>\n",
       "      <td>10983.422</td>\n",
       "      <td>54615.024</td>\n",
       "      <td>-48800.914</td>\n",
       "      <td>-23747.780</td>\n",
       "      <td>-6105.427</td>\n",
       "      <td>...</td>\n",
       "      <td>-5477.210</td>\n",
       "      <td>53518.757</td>\n",
       "      <td>53524.904</td>\n",
       "      <td>-295.079</td>\n",
       "      <td>53522.078</td>\n",
       "      <td>53521.114</td>\n",
       "      <td>51858.647</td>\n",
       "      <td>51852.404</td>\n",
       "      <td>52634.938</td>\n",
       "      <td>53656.292</td>\n",
       "    </tr>\n",
       "    <tr>\n",
       "      <th>3</th>\n",
       "      <td>3</td>\n",
       "      <td>45100.3</td>\n",
       "      <td>53536.381</td>\n",
       "      <td>28817.314</td>\n",
       "      <td>43788.425</td>\n",
       "      <td>10875.071</td>\n",
       "      <td>54627.602</td>\n",
       "      <td>-48879.150</td>\n",
       "      <td>-23656.250</td>\n",
       "      <td>-5947.409</td>\n",
       "      <td>...</td>\n",
       "      <td>-5319.580</td>\n",
       "      <td>53519.817</td>\n",
       "      <td>53526.025</td>\n",
       "      <td>-293.939</td>\n",
       "      <td>53523.199</td>\n",
       "      <td>53522.145</td>\n",
       "      <td>51838.810</td>\n",
       "      <td>51861.915</td>\n",
       "      <td>52631.027</td>\n",
       "      <td>53662.324</td>\n",
       "    </tr>\n",
       "    <tr>\n",
       "      <th>4</th>\n",
       "      <td>4</td>\n",
       "      <td>45100.4</td>\n",
       "      <td>53537.604</td>\n",
       "      <td>28944.894</td>\n",
       "      <td>43732.820</td>\n",
       "      <td>10766.830</td>\n",
       "      <td>54638.511</td>\n",
       "      <td>-48952.235</td>\n",
       "      <td>-23563.447</td>\n",
       "      <td>-5815.530</td>\n",
       "      <td>...</td>\n",
       "      <td>-5189.712</td>\n",
       "      <td>53520.918</td>\n",
       "      <td>53527.123</td>\n",
       "      <td>-292.821</td>\n",
       "      <td>53524.298</td>\n",
       "      <td>53523.217</td>\n",
       "      <td>51818.311</td>\n",
       "      <td>51865.431</td>\n",
       "      <td>52627.730</td>\n",
       "      <td>53666.836</td>\n",
       "    </tr>\n",
       "  </tbody>\n",
       "</table>\n",
       "<p>5 rows × 23 columns</p>\n",
       "</div>"
      ],
      "text/plain": [
       "   Unnamed: 0       tt   flux_b_t   flux_b_x   flux_b_y   flux_b_z   flux_c_t  \\\n",
       "0           0  45100.0  53533.107  28294.945  44045.834  11182.849  54584.776   \n",
       "1           1  45100.1  53534.123  28489.807  43945.789  11087.419  54600.732   \n",
       "2           2  45100.2  53535.215  28664.771  43859.696  10983.422  54615.024   \n",
       "3           3  45100.3  53536.381  28817.314  43788.425  10875.071  54627.602   \n",
       "4           4  45100.4  53537.604  28944.894  43732.820  10766.830  54638.511   \n",
       "\n",
       "    flux_c_x   flux_c_y  flux_c_z  ...  flux_d_z    mag_1_c   mag_1_dc  \\\n",
       "0 -48636.719 -23909.552 -6496.585  ... -5872.882  53516.740  53522.679   \n",
       "1 -48719.451 -23833.611 -6288.771  ... -5662.137  53517.734  53523.780   \n",
       "2 -48800.914 -23747.780 -6105.427  ... -5477.210  53518.757  53524.904   \n",
       "3 -48879.150 -23656.250 -5947.409  ... -5319.580  53519.817  53526.025   \n",
       "4 -48952.235 -23563.447 -5815.530  ... -5189.712  53520.918  53527.123   \n",
       "\n",
       "   mag_1_igrf  mag_1_lag   mag_1_uc   mag_2_uc   mag_3_uc   mag_4_uc  \\\n",
       "0    -297.343  53519.854  53519.161  51888.734  51816.828  52644.111   \n",
       "1    -296.223  53520.954  53520.123  51875.519  51836.852  52639.238   \n",
       "2    -295.079  53522.078  53521.114  51858.647  51852.404  52634.938   \n",
       "3    -293.939  53523.199  53522.145  51838.810  51861.915  52631.027   \n",
       "4    -292.821  53524.298  53523.217  51818.311  51865.431  52627.730   \n",
       "\n",
       "    mag_5_uc  \n",
       "0  53644.934  \n",
       "1  53650.004  \n",
       "2  53656.292  \n",
       "3  53662.324  \n",
       "4  53666.836  \n",
       "\n",
       "[5 rows x 23 columns]"
      ]
     },
     "execution_count": 5,
     "metadata": {},
     "output_type": "execute_result"
    }
   ],
   "source": [
    "flight_data.head()"
   ]
  },
  {
   "cell_type": "code",
   "execution_count": 6,
   "metadata": {},
   "outputs": [
    {
     "name": "stdout",
     "output_type": "stream",
     "text": [
      "<class 'pandas.core.frame.DataFrame'>\n",
      "RangeIndex: 207578 entries, 0 to 207577\n",
      "Data columns (total 23 columns):\n",
      "Unnamed: 0    207578 non-null int64\n",
      "tt            207578 non-null float64\n",
      "flux_b_t      207578 non-null float64\n",
      "flux_b_x      207578 non-null float64\n",
      "flux_b_y      207578 non-null float64\n",
      "flux_b_z      207578 non-null float64\n",
      "flux_c_t      207578 non-null float64\n",
      "flux_c_x      207578 non-null float64\n",
      "flux_c_y      207578 non-null float64\n",
      "flux_c_z      207578 non-null float64\n",
      "flux_d_t      207578 non-null float64\n",
      "flux_d_x      207578 non-null float64\n",
      "flux_d_y      207578 non-null float64\n",
      "flux_d_z      207578 non-null float64\n",
      "mag_1_c       207578 non-null float64\n",
      "mag_1_dc      207578 non-null float64\n",
      "mag_1_igrf    207578 non-null float64\n",
      "mag_1_lag     207578 non-null float64\n",
      "mag_1_uc      207578 non-null float64\n",
      "mag_2_uc      207578 non-null float64\n",
      "mag_3_uc      207578 non-null float64\n",
      "mag_4_uc      207578 non-null float64\n",
      "mag_5_uc      207578 non-null float64\n",
      "dtypes: float64(22), int64(1)\n",
      "memory usage: 36.4 MB\n"
     ]
    }
   ],
   "source": [
    "flight_data.info()"
   ]
  },
  {
   "cell_type": "code",
   "execution_count": 7,
   "metadata": {},
   "outputs": [
    {
     "data": {
      "text/html": [
       "<div>\n",
       "<style scoped>\n",
       "    .dataframe tbody tr th:only-of-type {\n",
       "        vertical-align: middle;\n",
       "    }\n",
       "\n",
       "    .dataframe tbody tr th {\n",
       "        vertical-align: top;\n",
       "    }\n",
       "\n",
       "    .dataframe thead th {\n",
       "        text-align: right;\n",
       "    }\n",
       "</style>\n",
       "<table border=\"1\" class=\"dataframe\">\n",
       "  <thead>\n",
       "    <tr style=\"text-align: right;\">\n",
       "      <th></th>\n",
       "      <th>mag_3_uc</th>\n",
       "      <th>mag_1_uc</th>\n",
       "      <th>mag_1_dc</th>\n",
       "      <th>mag_1_igrf</th>\n",
       "      <th>mag_1_c</th>\n",
       "    </tr>\n",
       "  </thead>\n",
       "  <tbody>\n",
       "    <tr>\n",
       "      <th>count</th>\n",
       "      <td>207578.000000</td>\n",
       "      <td>207578.000000</td>\n",
       "      <td>207578.000000</td>\n",
       "      <td>207578.000000</td>\n",
       "      <td>207578.000000</td>\n",
       "    </tr>\n",
       "    <tr>\n",
       "      <th>mean</th>\n",
       "      <td>53204.619721</td>\n",
       "      <td>53891.691425</td>\n",
       "      <td>53893.160219</td>\n",
       "      <td>15.822918</td>\n",
       "      <td>53891.706282</td>\n",
       "    </tr>\n",
       "    <tr>\n",
       "      <th>std</th>\n",
       "      <td>1086.295525</td>\n",
       "      <td>351.802792</td>\n",
       "      <td>349.280014</td>\n",
       "      <td>263.641503</td>\n",
       "      <td>351.901850</td>\n",
       "    </tr>\n",
       "    <tr>\n",
       "      <th>min</th>\n",
       "      <td>50570.347000</td>\n",
       "      <td>52777.789000</td>\n",
       "      <td>52786.905000</td>\n",
       "      <td>-868.652000</td>\n",
       "      <td>52778.111000</td>\n",
       "    </tr>\n",
       "    <tr>\n",
       "      <th>25%</th>\n",
       "      <td>52354.200000</td>\n",
       "      <td>53694.522750</td>\n",
       "      <td>53696.894000</td>\n",
       "      <td>-106.787250</td>\n",
       "      <td>53694.918500</td>\n",
       "    </tr>\n",
       "    <tr>\n",
       "      <th>50%</th>\n",
       "      <td>53049.811500</td>\n",
       "      <td>53961.552500</td>\n",
       "      <td>53958.650500</td>\n",
       "      <td>24.219500</td>\n",
       "      <td>53960.924000</td>\n",
       "    </tr>\n",
       "    <tr>\n",
       "      <th>75%</th>\n",
       "      <td>53914.141000</td>\n",
       "      <td>54093.997750</td>\n",
       "      <td>54088.810500</td>\n",
       "      <td>120.868500</td>\n",
       "      <td>54094.679750</td>\n",
       "    </tr>\n",
       "    <tr>\n",
       "      <th>max</th>\n",
       "      <td>56693.904000</td>\n",
       "      <td>56397.974000</td>\n",
       "      <td>56405.273000</td>\n",
       "      <td>2699.331000</td>\n",
       "      <td>56398.514000</td>\n",
       "    </tr>\n",
       "  </tbody>\n",
       "</table>\n",
       "</div>"
      ],
      "text/plain": [
       "            mag_3_uc       mag_1_uc       mag_1_dc     mag_1_igrf  \\\n",
       "count  207578.000000  207578.000000  207578.000000  207578.000000   \n",
       "mean    53204.619721   53891.691425   53893.160219      15.822918   \n",
       "std      1086.295525     351.802792     349.280014     263.641503   \n",
       "min     50570.347000   52777.789000   52786.905000    -868.652000   \n",
       "25%     52354.200000   53694.522750   53696.894000    -106.787250   \n",
       "50%     53049.811500   53961.552500   53958.650500      24.219500   \n",
       "75%     53914.141000   54093.997750   54088.810500     120.868500   \n",
       "max     56693.904000   56397.974000   56405.273000    2699.331000   \n",
       "\n",
       "             mag_1_c  \n",
       "count  207578.000000  \n",
       "mean    53891.706282  \n",
       "std       351.901850  \n",
       "min     52778.111000  \n",
       "25%     53694.918500  \n",
       "50%     53960.924000  \n",
       "75%     54094.679750  \n",
       "max     56398.514000  "
      ]
     },
     "execution_count": 7,
     "metadata": {},
     "output_type": "execute_result"
    }
   ],
   "source": [
    "flight_data[['mag_3_uc', 'mag_1_uc', 'mag_1_dc', 'mag_1_igrf', 'mag_1_c']].describe()"
   ]
  },
  {
   "cell_type": "markdown",
   "metadata": {},
   "source": [
    "### Preprocessed data"
   ]
  },
  {
   "cell_type": "markdown",
   "metadata": {},
   "source": [
    "Import the preprocessed magnetometer data, to which we have applied Tolles-Lawson calibration, and corrections for diurnal and core field variations. "
   ]
  },
  {
   "cell_type": "code",
   "execution_count": 8,
   "metadata": {},
   "outputs": [],
   "source": [
    "mag_1_TL = pd.read_csv(preprocessed_data_path.joinpath(\"mag_1_c.csv\"), header=None, names=[\"mag_1_TL\"])\n",
    "mag_3_TL = pd.read_csv(preprocessed_data_path.joinpath(\"mag_3_c.csv\"), header=None, names=[\"mag_3_TL\"])\n",
    "mag_5_TL = pd.read_csv(preprocessed_data_path.joinpath(\"mag_5_c.csv\"), header=None, names=[\"mag_5_TL\"])"
   ]
  },
  {
   "cell_type": "code",
   "execution_count": 9,
   "metadata": {},
   "outputs": [],
   "source": [
    "mags_TL = pd.concat([mag_1_TL, mag_3_TL, mag_5_TL], axis=1)"
   ]
  },
  {
   "cell_type": "code",
   "execution_count": 10,
   "metadata": {},
   "outputs": [
    {
     "data": {
      "text/html": [
       "<div>\n",
       "<style scoped>\n",
       "    .dataframe tbody tr th:only-of-type {\n",
       "        vertical-align: middle;\n",
       "    }\n",
       "\n",
       "    .dataframe tbody tr th {\n",
       "        vertical-align: top;\n",
       "    }\n",
       "\n",
       "    .dataframe thead th {\n",
       "        text-align: right;\n",
       "    }\n",
       "</style>\n",
       "<table border=\"1\" class=\"dataframe\">\n",
       "  <thead>\n",
       "    <tr style=\"text-align: right;\">\n",
       "      <th></th>\n",
       "      <th>mag_1_TL</th>\n",
       "      <th>mag_3_TL</th>\n",
       "      <th>mag_5_TL</th>\n",
       "    </tr>\n",
       "  </thead>\n",
       "  <tbody>\n",
       "    <tr>\n",
       "      <th>0</th>\n",
       "      <td>53516.758323</td>\n",
       "      <td>52784.083720</td>\n",
       "      <td>53767.486779</td>\n",
       "    </tr>\n",
       "    <tr>\n",
       "      <th>1</th>\n",
       "      <td>53517.748354</td>\n",
       "      <td>52788.541841</td>\n",
       "      <td>53771.847563</td>\n",
       "    </tr>\n",
       "    <tr>\n",
       "      <th>2</th>\n",
       "      <td>53518.768538</td>\n",
       "      <td>52790.888630</td>\n",
       "      <td>53777.615817</td>\n",
       "    </tr>\n",
       "    <tr>\n",
       "      <th>3</th>\n",
       "      <td>53519.827455</td>\n",
       "      <td>52788.699894</td>\n",
       "      <td>53783.080575</td>\n",
       "    </tr>\n",
       "    <tr>\n",
       "      <th>4</th>\n",
       "      <td>53520.925281</td>\n",
       "      <td>52782.335324</td>\n",
       "      <td>53787.009219</td>\n",
       "    </tr>\n",
       "  </tbody>\n",
       "</table>\n",
       "</div>"
      ],
      "text/plain": [
       "       mag_1_TL      mag_3_TL      mag_5_TL\n",
       "0  53516.758323  52784.083720  53767.486779\n",
       "1  53517.748354  52788.541841  53771.847563\n",
       "2  53518.768538  52790.888630  53777.615817\n",
       "3  53519.827455  52788.699894  53783.080575\n",
       "4  53520.925281  52782.335324  53787.009219"
      ]
     },
     "execution_count": 10,
     "metadata": {},
     "output_type": "execute_result"
    }
   ],
   "source": [
    "mags_TL.head()"
   ]
  },
  {
   "cell_type": "code",
   "execution_count": 11,
   "metadata": {},
   "outputs": [
    {
     "name": "stdout",
     "output_type": "stream",
     "text": [
      "<class 'pandas.core.frame.DataFrame'>\n",
      "RangeIndex: 207578 entries, 0 to 207577\n",
      "Data columns (total 3 columns):\n",
      "mag_1_TL    207578 non-null float64\n",
      "mag_3_TL    207578 non-null float64\n",
      "mag_5_TL    207578 non-null float64\n",
      "dtypes: float64(3)\n",
      "memory usage: 4.8 MB\n"
     ]
    }
   ],
   "source": [
    "mags_TL.info()"
   ]
  },
  {
   "cell_type": "markdown",
   "metadata": {},
   "source": [
    "### Combine original and processed data"
   ]
  },
  {
   "cell_type": "code",
   "execution_count": 12,
   "metadata": {},
   "outputs": [],
   "source": [
    "df = pd.concat([flight_data, mags_TL], axis=1)"
   ]
  },
  {
   "cell_type": "markdown",
   "metadata": {},
   "source": [
    "The original dataset has 207578 time steps sampled at 10 Hz for almost six hours of flight. This project will use the subset for calibration 1, with about 12300 steps or 20 minutes, and keep only a subset of the fields. "
   ]
  },
  {
   "cell_type": "code",
   "execution_count": 13,
   "metadata": {},
   "outputs": [],
   "source": [
    "df = df.truncate(before=12701, after=25001, copy=False)\n",
    "df = df[['flux_b_t',\n",
    " 'flux_b_x',\n",
    " 'flux_b_y',\n",
    " 'flux_b_z',\n",
    " 'flux_c_t',\n",
    " 'flux_c_x',\n",
    " 'flux_c_y',\n",
    " 'flux_c_z',\n",
    " 'flux_d_t',\n",
    " 'flux_d_x',\n",
    " 'flux_d_y',\n",
    " 'flux_d_z',\n",
    " 'mag_1_c',\n",
    " 'mag_3_uc',\n",
    " 'mag_3_TL']]\n",
    "df = df.reset_index(drop=True)"
   ]
  },
  {
   "cell_type": "code",
   "execution_count": 14,
   "metadata": {},
   "outputs": [
    {
     "name": "stdout",
     "output_type": "stream",
     "text": [
      "<class 'pandas.core.frame.DataFrame'>\n",
      "RangeIndex: 12301 entries, 0 to 12300\n",
      "Data columns (total 15 columns):\n",
      "flux_b_t    12301 non-null float64\n",
      "flux_b_x    12301 non-null float64\n",
      "flux_b_y    12301 non-null float64\n",
      "flux_b_z    12301 non-null float64\n",
      "flux_c_t    12301 non-null float64\n",
      "flux_c_x    12301 non-null float64\n",
      "flux_c_y    12301 non-null float64\n",
      "flux_c_z    12301 non-null float64\n",
      "flux_d_t    12301 non-null float64\n",
      "flux_d_x    12301 non-null float64\n",
      "flux_d_y    12301 non-null float64\n",
      "flux_d_z    12301 non-null float64\n",
      "mag_1_c     12301 non-null float64\n",
      "mag_3_uc    12301 non-null float64\n",
      "mag_3_TL    12301 non-null float64\n",
      "dtypes: float64(15)\n",
      "memory usage: 1.4 MB\n"
     ]
    }
   ],
   "source": [
    "df.info()"
   ]
  },
  {
   "cell_type": "markdown",
   "metadata": {},
   "source": [
    "### Create a test set"
   ]
  },
  {
   "cell_type": "markdown",
   "metadata": {},
   "source": [
    "For time series data, the training and test sets should be in sequential order, so do not shuffle when splitting the data. After splitting, the choice of shuffling within each set will depend on the model being trained. Regression algorithms including linear regression and feedforward neural network will work with and may benefit from shuffling, whereas a recurrent neural network relies on sequential ordering in the data. "
   ]
  },
  {
   "cell_type": "code",
   "execution_count": 15,
   "metadata": {},
   "outputs": [],
   "source": [
    "from sklearn.model_selection import train_test_split\n",
    "\n",
    "train_set, test_set = train_test_split(df, test_size=0.2, shuffle=False)"
   ]
  },
  {
   "cell_type": "code",
   "execution_count": 16,
   "metadata": {},
   "outputs": [
    {
     "name": "stdout",
     "output_type": "stream",
     "text": [
      "Index ranges for train and test sets:\n",
      "0 9839\n",
      "9840 12300\n"
     ]
    }
   ],
   "source": [
    "print(\"Index ranges for train and test sets:\")\n",
    "print(train_set.index[0], train_set.index[-1])\n",
    "print(test_set.index[0], test_set.index[-1])"
   ]
  },
  {
   "cell_type": "markdown",
   "metadata": {},
   "source": [
    "### Create a Test Set"
   ]
  },
  {
   "cell_type": "markdown",
   "metadata": {},
   "source": [
    "## Discover and visualize the data to gain insights"
   ]
  },
  {
   "cell_type": "markdown",
   "metadata": {},
   "source": [
    "Note: all field values are in units of nanoTesla and time series plots are in terms of time step (or, equivalently, index). "
   ]
  },
  {
   "cell_type": "markdown",
   "metadata": {},
   "source": [
    "Summary statistics"
   ]
  },
  {
   "cell_type": "code",
   "execution_count": 17,
   "metadata": {},
   "outputs": [
    {
     "data": {
      "text/html": [
       "<div>\n",
       "<style scoped>\n",
       "    .dataframe tbody tr th:only-of-type {\n",
       "        vertical-align: middle;\n",
       "    }\n",
       "\n",
       "    .dataframe tbody tr th {\n",
       "        vertical-align: top;\n",
       "    }\n",
       "\n",
       "    .dataframe thead th {\n",
       "        text-align: right;\n",
       "    }\n",
       "</style>\n",
       "<table border=\"1\" class=\"dataframe\">\n",
       "  <thead>\n",
       "    <tr style=\"text-align: right;\">\n",
       "      <th></th>\n",
       "      <th>flux_b_t</th>\n",
       "      <th>flux_b_x</th>\n",
       "      <th>flux_b_y</th>\n",
       "      <th>flux_b_z</th>\n",
       "      <th>flux_c_t</th>\n",
       "      <th>flux_c_x</th>\n",
       "      <th>flux_c_y</th>\n",
       "      <th>flux_c_z</th>\n",
       "      <th>flux_d_t</th>\n",
       "      <th>flux_d_x</th>\n",
       "      <th>flux_d_y</th>\n",
       "      <th>flux_d_z</th>\n",
       "      <th>mag_1_c</th>\n",
       "      <th>mag_3_uc</th>\n",
       "      <th>mag_3_TL</th>\n",
       "    </tr>\n",
       "  </thead>\n",
       "  <tbody>\n",
       "    <tr>\n",
       "      <th>count</th>\n",
       "      <td>12301.000000</td>\n",
       "      <td>12301.000000</td>\n",
       "      <td>12301.000000</td>\n",
       "      <td>12301.000000</td>\n",
       "      <td>12301.000000</td>\n",
       "      <td>12301.000000</td>\n",
       "      <td>12301.000000</td>\n",
       "      <td>12301.000000</td>\n",
       "      <td>12301.000000</td>\n",
       "      <td>12301.000000</td>\n",
       "      <td>12301.000000</td>\n",
       "      <td>12301.000000</td>\n",
       "      <td>12301.000000</td>\n",
       "      <td>12301.000000</td>\n",
       "      <td>12301.000000</td>\n",
       "    </tr>\n",
       "    <tr>\n",
       "      <th>mean</th>\n",
       "      <td>53800.809041</td>\n",
       "      <td>31557.296362</td>\n",
       "      <td>38097.549991</td>\n",
       "      <td>-7414.092561</td>\n",
       "      <td>55387.297700</td>\n",
       "      <td>-51389.909870</td>\n",
       "      <td>-5375.625617</td>\n",
       "      <td>417.848866</td>\n",
       "      <td>54404.831495</td>\n",
       "      <td>-50457.641403</td>\n",
       "      <td>-3594.205462</td>\n",
       "      <td>-1380.204657</td>\n",
       "      <td>53970.123053</td>\n",
       "      <td>53148.066768</td>\n",
       "      <td>53318.525495</td>\n",
       "    </tr>\n",
       "    <tr>\n",
       "      <th>std</th>\n",
       "      <td>90.354385</td>\n",
       "      <td>11681.118783</td>\n",
       "      <td>9615.954960</td>\n",
       "      <td>12781.410359</td>\n",
       "      <td>1081.763389</td>\n",
       "      <td>2666.681772</td>\n",
       "      <td>13127.035530</td>\n",
       "      <td>14815.347160</td>\n",
       "      <td>678.496783</td>\n",
       "      <td>2692.444428</td>\n",
       "      <td>13137.713851</td>\n",
       "      <td>14822.254081</td>\n",
       "      <td>39.103743</td>\n",
       "      <td>1090.792674</td>\n",
       "      <td>69.754078</td>\n",
       "    </tr>\n",
       "    <tr>\n",
       "      <th>min</th>\n",
       "      <td>53627.319000</td>\n",
       "      <td>-1283.854000</td>\n",
       "      <td>8300.042000</td>\n",
       "      <td>-31327.101000</td>\n",
       "      <td>52724.850000</td>\n",
       "      <td>-55598.393000</td>\n",
       "      <td>-27446.967000</td>\n",
       "      <td>-33265.666000</td>\n",
       "      <td>53066.471000</td>\n",
       "      <td>-54640.005000</td>\n",
       "      <td>-25673.036000</td>\n",
       "      <td>-35399.955000</td>\n",
       "      <td>53886.995000</td>\n",
       "      <td>51411.995000</td>\n",
       "      <td>53183.104197</td>\n",
       "    </tr>\n",
       "    <tr>\n",
       "      <th>25%</th>\n",
       "      <td>53716.704000</td>\n",
       "      <td>22858.739000</td>\n",
       "      <td>31271.093000</td>\n",
       "      <td>-18119.184000</td>\n",
       "      <td>54457.760000</td>\n",
       "      <td>-53168.291000</td>\n",
       "      <td>-20711.543000</td>\n",
       "      <td>-12381.404000</td>\n",
       "      <td>53874.606000</td>\n",
       "      <td>-52225.343000</td>\n",
       "      <td>-19088.569000</td>\n",
       "      <td>-14137.435000</td>\n",
       "      <td>53944.641000</td>\n",
       "      <td>52335.442000</td>\n",
       "      <td>53260.031242</td>\n",
       "    </tr>\n",
       "    <tr>\n",
       "      <th>50%</th>\n",
       "      <td>53824.752000</td>\n",
       "      <td>34249.977000</td>\n",
       "      <td>39217.772000</td>\n",
       "      <td>-8499.135000</td>\n",
       "      <td>55618.853000</td>\n",
       "      <td>-51886.710000</td>\n",
       "      <td>-4495.256000</td>\n",
       "      <td>1527.356000</td>\n",
       "      <td>54224.976000</td>\n",
       "      <td>-51050.309000</td>\n",
       "      <td>-2628.834000</td>\n",
       "      <td>-156.926000</td>\n",
       "      <td>53960.870000</td>\n",
       "      <td>52905.016000</td>\n",
       "      <td>53318.689068</td>\n",
       "    </tr>\n",
       "    <tr>\n",
       "      <th>75%</th>\n",
       "      <td>53866.545000</td>\n",
       "      <td>38264.577000</td>\n",
       "      <td>47144.977000</td>\n",
       "      <td>7740.285000</td>\n",
       "      <td>55985.744000</td>\n",
       "      <td>-50525.176000</td>\n",
       "      <td>5816.836000</td>\n",
       "      <td>8627.374000</td>\n",
       "      <td>55047.401000</td>\n",
       "      <td>-49656.352000</td>\n",
       "      <td>7557.834000</td>\n",
       "      <td>6676.917000</td>\n",
       "      <td>53997.958000</td>\n",
       "      <td>53668.371000</td>\n",
       "      <td>53373.515202</td>\n",
       "    </tr>\n",
       "    <tr>\n",
       "      <th>max</th>\n",
       "      <td>53967.087000</td>\n",
       "      <td>51591.498000</td>\n",
       "      <td>53505.539000</td>\n",
       "      <td>14450.525000</td>\n",
       "      <td>57573.934000</td>\n",
       "      <td>-40834.764000</td>\n",
       "      <td>19405.059000</td>\n",
       "      <td>33977.108000</td>\n",
       "      <td>56173.890000</td>\n",
       "      <td>-39532.771000</td>\n",
       "      <td>21498.281000</td>\n",
       "      <td>31878.945000</td>\n",
       "      <td>54066.039000</td>\n",
       "      <td>56314.816000</td>\n",
       "      <td>53452.812761</td>\n",
       "    </tr>\n",
       "  </tbody>\n",
       "</table>\n",
       "</div>"
      ],
      "text/plain": [
       "           flux_b_t      flux_b_x      flux_b_y      flux_b_z      flux_c_t  \\\n",
       "count  12301.000000  12301.000000  12301.000000  12301.000000  12301.000000   \n",
       "mean   53800.809041  31557.296362  38097.549991  -7414.092561  55387.297700   \n",
       "std       90.354385  11681.118783   9615.954960  12781.410359   1081.763389   \n",
       "min    53627.319000  -1283.854000   8300.042000 -31327.101000  52724.850000   \n",
       "25%    53716.704000  22858.739000  31271.093000 -18119.184000  54457.760000   \n",
       "50%    53824.752000  34249.977000  39217.772000  -8499.135000  55618.853000   \n",
       "75%    53866.545000  38264.577000  47144.977000   7740.285000  55985.744000   \n",
       "max    53967.087000  51591.498000  53505.539000  14450.525000  57573.934000   \n",
       "\n",
       "           flux_c_x      flux_c_y      flux_c_z      flux_d_t      flux_d_x  \\\n",
       "count  12301.000000  12301.000000  12301.000000  12301.000000  12301.000000   \n",
       "mean  -51389.909870  -5375.625617    417.848866  54404.831495 -50457.641403   \n",
       "std     2666.681772  13127.035530  14815.347160    678.496783   2692.444428   \n",
       "min   -55598.393000 -27446.967000 -33265.666000  53066.471000 -54640.005000   \n",
       "25%   -53168.291000 -20711.543000 -12381.404000  53874.606000 -52225.343000   \n",
       "50%   -51886.710000  -4495.256000   1527.356000  54224.976000 -51050.309000   \n",
       "75%   -50525.176000   5816.836000   8627.374000  55047.401000 -49656.352000   \n",
       "max   -40834.764000  19405.059000  33977.108000  56173.890000 -39532.771000   \n",
       "\n",
       "           flux_d_y      flux_d_z       mag_1_c      mag_3_uc      mag_3_TL  \n",
       "count  12301.000000  12301.000000  12301.000000  12301.000000  12301.000000  \n",
       "mean   -3594.205462  -1380.204657  53970.123053  53148.066768  53318.525495  \n",
       "std    13137.713851  14822.254081     39.103743   1090.792674     69.754078  \n",
       "min   -25673.036000 -35399.955000  53886.995000  51411.995000  53183.104197  \n",
       "25%   -19088.569000 -14137.435000  53944.641000  52335.442000  53260.031242  \n",
       "50%    -2628.834000   -156.926000  53960.870000  52905.016000  53318.689068  \n",
       "75%     7557.834000   6676.917000  53997.958000  53668.371000  53373.515202  \n",
       "max    21498.281000  31878.945000  54066.039000  56314.816000  53452.812761  "
      ]
     },
     "execution_count": 17,
     "metadata": {},
     "output_type": "execute_result"
    }
   ],
   "source": [
    "df.describe()"
   ]
  },
  {
   "cell_type": "markdown",
   "metadata": {},
   "source": [
    "Scatter matrix"
   ]
  },
  {
   "cell_type": "code",
   "execution_count": 18,
   "metadata": {},
   "outputs": [],
   "source": [
    "# Comment or uncomment to view scatter matrix\n",
    "# It takes a few seconds to run, so commenting it out speeds up development elsewhere\n",
    "# pd.plotting.scatter_matrix(df, alpha=0.1, figsize=(15, 15), diagonal=\"kde\");"
   ]
  },
  {
   "cell_type": "markdown",
   "metadata": {},
   "source": [
    "The scatter plot shows estimates of the covariance matrix, with the density distribution along the diagonal (histogram is the other option). This looks like a fascinating topic for further study.  "
   ]
  },
  {
   "cell_type": "code",
   "execution_count": 19,
   "metadata": {},
   "outputs": [
    {
     "data": {
      "text/plain": [
       "array([[<matplotlib.axes._subplots.AxesSubplot object at 0x7fc7881cda58>,\n",
       "        <matplotlib.axes._subplots.AxesSubplot object at 0x7fc788186a90>],\n",
       "       [<matplotlib.axes._subplots.AxesSubplot object at 0x7fc78813dc50>,\n",
       "        <matplotlib.axes._subplots.AxesSubplot object at 0x7fc7880fa240>],\n",
       "       [<matplotlib.axes._subplots.AxesSubplot object at 0x7fc7880aa7f0>,\n",
       "        <matplotlib.axes._subplots.AxesSubplot object at 0x7fc78805ada0>]],\n",
       "      dtype=object)"
      ]
     },
     "execution_count": 19,
     "metadata": {},
     "output_type": "execute_result"
    },
    {
     "data": {
      "image/png": "[encoded data removed]",
      "text/plain": [
       "<Figure size 1440x1080 with 6 Axes>"
      ]
     },
     "metadata": {
      "needs_background": "light"
     },
     "output_type": "display_data"
    }
   ],
   "source": [
    "df[['mag_1_c', 'mag_3_uc', 'mag_3_TL', 'flux_b_t', 'flux_c_t', 'flux_d_t']].hist(figsize=(20, 15))"
   ]
  },
  {
   "cell_type": "code",
   "execution_count": 20,
   "metadata": {},
   "outputs": [
    {
     "data": {
      "text/plain": [
       "<matplotlib.axes._subplots.AxesSubplot at 0x7fc768590978>"
      ]
     },
     "execution_count": 20,
     "metadata": {},
     "output_type": "execute_result"
    },
    {
     "data": {
      "image/png": "[encoded data removed]",
      "text/plain": [
       "<Figure size 432x288 with 1 Axes>"
      ]
     },
     "metadata": {
      "needs_background": "light"
     },
     "output_type": "display_data"
    },
    {
     "data": {
      "image/png": "[encoded data removed]",
      "text/plain": [
       "<Figure size 432x288 with 1 Axes>"
      ]
     },
     "metadata": {
      "needs_background": "light"
     },
     "output_type": "display_data"
    },
    {
     "data": {
      "image/png": "[encoded data removed]",
      "text/plain": [
       "<Figure size 432x288 with 1 Axes>"
      ]
     },
     "metadata": {
      "needs_background": "light"
     },
     "output_type": "display_data"
    }
   ],
   "source": [
    "ylim = [-6e4, 6e4]\n",
    "df[['flux_b_x', 'flux_b_y', 'flux_b_z']].plot(ylim=ylim)\n",
    "df[['flux_c_x', 'flux_c_y', 'flux_c_z']].plot(ylim=ylim)\n",
    "df[['flux_d_x', 'flux_d_y', 'flux_d_z']].plot(ylim=ylim)"
   ]
  },
  {
   "cell_type": "markdown",
   "metadata": {},
   "source": [
    "**Observation** \n",
    "\n",
    "Each vector magnetometer `flux_[b, c, d]*` has four channels: `_x`, `_y`, `_z`, components and the magnitude or total field `t`. The total field is between 52000 nT and 58000 nT, whereas the components vary between -58000 nT and +58000 nT. This suggests directional information is a key component of the vector magnetometers, so feature scaling should take this into account. "
   ]
  },
  {
   "cell_type": "code",
   "execution_count": 21,
   "metadata": {},
   "outputs": [
    {
     "data": {
      "text/plain": [
       "<matplotlib.axes._subplots.AxesSubplot at 0x7fc7684d9208>"
      ]
     },
     "execution_count": 21,
     "metadata": {},
     "output_type": "execute_result"
    },
    {
     "data": {
      "image/png": "[encoded data removed]",
      "text/plain": [
       "<Figure size 432x288 with 1 Axes>"
      ]
     },
     "metadata": {
      "needs_background": "light"
     },
     "output_type": "display_data"
    }
   ],
   "source": [
    "df[['mag_1_c', 'mag_3_uc', 'mag_3_TL']].plot()"
   ]
  },
  {
   "cell_type": "markdown",
   "metadata": {},
   "source": [
    "**Observation** \n",
    "\n",
    "The scalar magnetometers range between 51000 nT and 57000 nT, a similar range as the total field measurements of the magnetometers. (The scalar magnetometers have values in a similar range as the total field of the vector magnetometers, but because each magnetometer is in a different location and the fluxgate (vector) magnetometers are less sensitive and stable than the scalar magnetometers, the deviations are not surprising.) "
   ]
  },
  {
   "cell_type": "markdown",
   "metadata": {},
   "source": [
    "**Note**\n",
    "\n",
    "Magnetic navigation relies on field fluctuations in the frequency band between 1 milliHertz and 1 Hertz, so different DC offsets of the compensated magnetometers do not matter. Compare the plot of the scalar magnetometer values (above) with the mean-subtracted values (below). "
   ]
  },
  {
   "cell_type": "code",
   "execution_count": 22,
   "metadata": {},
   "outputs": [
    {
     "data": {
      "text/plain": [
       "<matplotlib.legend.Legend at 0x7fc7684d9940>"
      ]
     },
     "execution_count": 22,
     "metadata": {},
     "output_type": "execute_result"
    },
    {
     "data": {
      "image/png": "[encoded data removed]",
      "text/plain": [
       "<Figure size 432x288 with 1 Axes>"
      ]
     },
     "metadata": {
      "needs_background": "light"
     },
     "output_type": "display_data"
    }
   ],
   "source": [
    "for cat in ['mag_1_c', 'mag_3_uc', 'mag_3_TL']:\n",
    "    plt.plot(df[cat] - df[cat].mean(), label=cat)\n",
    "plt.legend()"
   ]
  },
  {
   "cell_type": "code",
   "execution_count": 23,
   "metadata": {},
   "outputs": [],
   "source": [
    "from sklearn.metrics import mean_squared_error\n",
    "\n",
    "def rmse(y_true, y_pred, subtract_mean=True):\n",
    "    if subtract_mean:\n",
    "        return np.sqrt(mean_squared_error(y_true - y_true.mean(), \n",
    "                                          y_pred - y_pred.mean()))\n",
    "    else:\n",
    "        return np.sqrt(mean_squared_error(y_true, y_pred))\n"
   ]
  },
  {
   "cell_type": "markdown",
   "metadata": {},
   "source": [
    "Because a DC offset is not important, the performance metric will be the RMSE between mean-subtracted truth and predicted values. Using the `rmse(y_true, y_pred)` function to evaluate. For comparison, the uncompensated and Tolles-Lawson compensated baseline errors are"
   ]
  },
  {
   "cell_type": "code",
   "execution_count": 24,
   "metadata": {},
   "outputs": [
    {
     "data": {
      "text/plain": [
       "1067.7409567202417"
      ]
     },
     "execution_count": 24,
     "metadata": {},
     "output_type": "execute_result"
    }
   ],
   "source": [
    "mag_3_uc_rmse = rmse(df['mag_1_c'], df['mag_3_uc'])\n",
    "mag_3_uc_rmse"
   ]
  },
  {
   "cell_type": "code",
   "execution_count": 25,
   "metadata": {},
   "outputs": [
    {
     "data": {
      "text/plain": [
       "61.10702079917575"
      ]
     },
     "execution_count": 25,
     "metadata": {},
     "output_type": "execute_result"
    }
   ],
   "source": [
    "mag_3_TL_rmse = rmse(df['mag_1_c'], \n",
    "                               df['mag_3_TL'])\n",
    "mag_3_TL_rmse"
   ]
  },
  {
   "cell_type": "markdown",
   "metadata": {},
   "source": [
    "## Prepare the data for Machine Learning algorithms"
   ]
  },
  {
   "cell_type": "markdown",
   "metadata": {},
   "source": [
    "Two of the most popular strategies for hyperparameter tuning are hold-out validation and k-fold cross-validation. This [KDnuggets post](https://www.kdnuggets.com/2017/08/dataiku-predictive-model-holdout-cross-validation.html) has a good discussion of the methods and their tradeoffs. We will use hold-out validation due to its simplicity, and to avoid data leakage by looking ahead when working with time series. It is also frequently used when training neural networks due to lower computation time.  "
   ]
  },
  {
   "cell_type": "code",
   "execution_count": 26,
   "metadata": {},
   "outputs": [],
   "source": [
    "train_set, valid_set = train_test_split(train_set, test_size=0.25, shuffle=False)"
   ]
  },
  {
   "cell_type": "markdown",
   "metadata": {},
   "source": [
    "Separate predictors and labels"
   ]
  },
  {
   "cell_type": "code",
   "execution_count": 27,
   "metadata": {},
   "outputs": [],
   "source": [
    "train_data = train_set.drop(\"mag_1_c\", axis=1)\n",
    "train_labels = train_set[\"mag_1_c\"].copy()\n",
    "valid_data = valid_set.drop(\"mag_1_c\", axis=1)\n",
    "valid_labels = valid_set[\"mag_1_c\"].copy()\n",
    "test_data = test_set.drop(\"mag_1_c\", axis=1)\n",
    "test_labels = test_set[\"mag_1_c\"].copy()"
   ]
  },
  {
   "cell_type": "markdown",
   "metadata": {},
   "source": [
    "### Feature Scaling"
   ]
  },
  {
   "cell_type": "markdown",
   "metadata": {},
   "source": [
    "Most machine learning algorithms perform better when the features are scaled to values close to one. The two most common ways are min-max scaling and standardization. Because the directional information in the vector magnetometers will likely get lost with this type of scaling, here is a custom transformer that converts the vector measurements to direction cosines. "
   ]
  },
  {
   "cell_type": "code",
   "execution_count": 28,
   "metadata": {},
   "outputs": [
    {
     "data": {
      "text/plain": [
       "pandas.core.frame.DataFrame"
      ]
     },
     "execution_count": 28,
     "metadata": {},
     "output_type": "execute_result"
    }
   ],
   "source": [
    "type(df)"
   ]
  },
  {
   "cell_type": "code",
   "execution_count": 29,
   "metadata": {},
   "outputs": [],
   "source": [
    "from sklearn.base import BaseEstimator, TransformerMixin\n",
    "\n",
    "col_names = ['flux_b_t', 'flux_b_x', 'flux_b_y', 'flux_b_z',\n",
    "             'flux_c_t', 'flux_c_x', 'flux_c_y', 'flux_c_z',\n",
    "             'flux_d_t', 'flux_d_x', 'flux_d_y', 'flux_d_z']\n",
    "\n",
    "b_t, b_x, b_y, b_z, c_t, c_x, c_y, c_z, d_t, d_x, d_y, d_z = [\n",
    "    df.columns.get_loc(c) for c in col_names]\n",
    "\n",
    "class DirectionCosineAdder(BaseEstimator, TransformerMixin):\n",
    "    \"\"\"Transform vector measurements to direction cosines\"\"\"\n",
    "    def __init__(self, add_direction_cosines=True):\n",
    "        self.add_direction_cosines = add_direction_cosines\n",
    "    def fit(self, X, y=None):\n",
    "        return self\n",
    "    def transform(self, X):\n",
    "        if isinstance(X, pd.DataFrame):\n",
    "            X = X.values\n",
    "        if self.add_direction_cosines:\n",
    "            cos_b_x = X[:, b_x] / X[:, b_t]\n",
    "            cos_b_y = X[:, b_y] / X[:, b_t]\n",
    "            cos_b_z = X[:, b_z] / X[:, b_t]\n",
    "            cos_c_x = X[:, c_x] / X[:, c_t]\n",
    "            cos_c_y = X[:, c_y] / X[:, c_t]\n",
    "            cos_c_z = X[:, c_z] / X[:, c_t]\n",
    "            cos_d_x = X[:, d_x] / X[:, d_t]\n",
    "            cos_d_y = X[:, d_y] / X[:, d_t]\n",
    "            cos_d_z = X[:, d_z] / X[:, d_t]\n",
    "            return np.c_[X, \n",
    "                         cos_b_x, cos_b_y, cos_b_z, \n",
    "                         cos_c_x, cos_c_y, cos_c_z,\n",
    "                         cos_d_x, cos_d_y, cos_d_z]\n",
    "        else:\n",
    "            return np.c_[X]\n",
    "\n",
    "attr_adder = DirectionCosineAdder()\n",
    "extra_attribs = attr_adder.transform(df.values)"
   ]
  },
  {
   "cell_type": "code",
   "execution_count": 30,
   "metadata": {},
   "outputs": [
    {
     "data": {
      "text/plain": [
       "True"
      ]
     },
     "execution_count": 30,
     "metadata": {},
     "output_type": "execute_result"
    }
   ],
   "source": [
    "# Check that the last nine columns containing direction cosines \n",
    "# are between -1 and +1\n",
    "np.all(np.abs(extra_attribs[:, -9:-1]) < 1)"
   ]
  },
  {
   "cell_type": "markdown",
   "metadata": {},
   "source": [
    "Build a pipeline for processing"
   ]
  },
  {
   "cell_type": "code",
   "execution_count": 31,
   "metadata": {},
   "outputs": [],
   "source": [
    "from sklearn.pipeline import Pipeline\n",
    "from sklearn.preprocessing import MinMaxScaler\n",
    "\n",
    "pipeline = Pipeline([\n",
    "    ('dir_cos_adder', DirectionCosineAdder()),\n",
    "    ('min_max_scaler', MinMaxScaler()) # default feature_range=(0, 1)\n",
    "])\n",
    "\n",
    "train_prepared = pipeline.fit_transform(train_data)"
   ]
  },
  {
   "cell_type": "markdown",
   "metadata": {},
   "source": [
    "Try the preprocessing pipeline on a few training instances, predict values, and compare to actual values"
   ]
  },
  {
   "cell_type": "code",
   "execution_count": 32,
   "metadata": {
    "scrolled": true
   },
   "outputs": [
    {
     "data": {
      "text/plain": [
       "array([[0.31752251, 0.19986977, 0.96983964, 0.82507003, 0.14801542,\n",
       "        0.77705507, 0.20732425, 0.12066266, 0.05520723, 0.76065275,\n",
       "        0.18956811, 0.12608654, 0.01679258, 0.28002183, 0.20046156,\n",
       "        0.96909905, 0.82432694, 0.72864163, 0.19284702, 0.13065958,\n",
       "        0.73979931, 0.18698888, 0.13067206],\n",
       "       [0.31797232, 0.19904339, 0.97015392, 0.82393523, 0.14738223,\n",
       "        0.77740323, 0.20851669, 0.12006132, 0.0550209 , 0.7610008 ,\n",
       "        0.1907367 , 0.12548661, 0.01668652, 0.28707678, 0.199632  ,\n",
       "        0.96940985, 0.82318942, 0.72882659, 0.19406741, 0.13002011,\n",
       "        0.74015194, 0.18818407, 0.13005308],\n",
       "       [0.31840946, 0.19824135, 0.97046092, 0.82279001, 0.14674649,\n",
       "        0.77770986, 0.20971417, 0.11947726, 0.05477182, 0.76134145,\n",
       "        0.19190719, 0.12489779, 0.01656475, 0.28698914, 0.19882689,\n",
       "        0.96971346, 0.82204147, 0.72896201, 0.1952931 , 0.12939826,\n",
       "        0.74048262, 0.18937997, 0.12944402],\n",
       "       [0.31882759, 0.19744094, 0.97076636, 0.82163425, 0.14608595,\n",
       "        0.77801799, 0.21092054, 0.11889553, 0.05442845, 0.76173299,\n",
       "        0.19308105, 0.12430125, 0.01641728, 0.28659631, 0.19802343,\n",
       "        0.97001565, 0.82088297, 0.72909046, 0.19652736, 0.12877793,\n",
       "        0.74085036, 0.19057749, 0.12882484],\n",
       "       [0.31923622, 0.19661895, 0.97107593, 0.8204704 , 0.14538406,\n",
       "        0.77837195, 0.21213835, 0.1183004 , 0.05401718, 0.76218748,\n",
       "        0.19426313, 0.12368813, 0.01623066, 0.28578146, 0.19719836,\n",
       "        0.97032201, 0.81971638, 0.72925808, 0.19777234, 0.12814239,\n",
       "        0.74127449, 0.19178215, 0.12818708]])"
      ]
     },
     "execution_count": 32,
     "metadata": {},
     "output_type": "execute_result"
    }
   ],
   "source": [
    "some_data = train_data.iloc[:5]\n",
    "some_labels = train_labels.iloc[:5]\n",
    "some_data_prepared = pipeline.transform(some_data)\n",
    "\n",
    "some_data_prepared"
   ]
  },
  {
   "cell_type": "markdown",
   "metadata": {},
   "source": [
    "## Select a model and train it"
   ]
  },
  {
   "cell_type": "markdown",
   "metadata": {},
   "source": [
    "### Linear Regression"
   ]
  },
  {
   "cell_type": "code",
   "execution_count": 33,
   "metadata": {},
   "outputs": [
    {
     "data": {
      "text/plain": [
       "LinearRegression(copy_X=True, fit_intercept=True, n_jobs=None,\n",
       "         normalize=False)"
      ]
     },
     "execution_count": 33,
     "metadata": {},
     "output_type": "execute_result"
    }
   ],
   "source": [
    "from sklearn.linear_model import LinearRegression\n",
    "\n",
    "lin_reg = LinearRegression()\n",
    "lin_reg.fit(train_prepared, train_labels)"
   ]
  },
  {
   "cell_type": "code",
   "execution_count": 34,
   "metadata": {},
   "outputs": [
    {
     "name": "stdout",
     "output_type": "stream",
     "text": [
      "Predictions: [53888.1700486  53889.00367006 53889.26651103 53889.14628772\n",
      " 53888.82300697]\n"
     ]
    }
   ],
   "source": [
    "print(\"Predictions:\", lin_reg.predict(some_data_prepared))"
   ]
  },
  {
   "cell_type": "code",
   "execution_count": 35,
   "metadata": {},
   "outputs": [
    {
     "data": {
      "text/plain": [
       "array([[0.31752251, 0.19986977, 0.96983964, 0.82507003, 0.14801542,\n",
       "        0.77705507, 0.20732425, 0.12066266, 0.05520723, 0.76065275,\n",
       "        0.18956811, 0.12608654, 0.01679258, 0.28002183, 0.20046156,\n",
       "        0.96909905, 0.82432694, 0.72864163, 0.19284702, 0.13065958,\n",
       "        0.73979931, 0.18698888, 0.13067206],\n",
       "       [0.31797232, 0.19904339, 0.97015392, 0.82393523, 0.14738223,\n",
       "        0.77740323, 0.20851669, 0.12006132, 0.0550209 , 0.7610008 ,\n",
       "        0.1907367 , 0.12548661, 0.01668652, 0.28707678, 0.199632  ,\n",
       "        0.96940985, 0.82318942, 0.72882659, 0.19406741, 0.13002011,\n",
       "        0.74015194, 0.18818407, 0.13005308],\n",
       "       [0.31840946, 0.19824135, 0.97046092, 0.82279001, 0.14674649,\n",
       "        0.77770986, 0.20971417, 0.11947726, 0.05477182, 0.76134145,\n",
       "        0.19190719, 0.12489779, 0.01656475, 0.28698914, 0.19882689,\n",
       "        0.96971346, 0.82204147, 0.72896201, 0.1952931 , 0.12939826,\n",
       "        0.74048262, 0.18937997, 0.12944402],\n",
       "       [0.31882759, 0.19744094, 0.97076636, 0.82163425, 0.14608595,\n",
       "        0.77801799, 0.21092054, 0.11889553, 0.05442845, 0.76173299,\n",
       "        0.19308105, 0.12430125, 0.01641728, 0.28659631, 0.19802343,\n",
       "        0.97001565, 0.82088297, 0.72909046, 0.19652736, 0.12877793,\n",
       "        0.74085036, 0.19057749, 0.12882484],\n",
       "       [0.31923622, 0.19661895, 0.97107593, 0.8204704 , 0.14538406,\n",
       "        0.77837195, 0.21213835, 0.1183004 , 0.05401718, 0.76218748,\n",
       "        0.19426313, 0.12368813, 0.01623066, 0.28578146, 0.19719836,\n",
       "        0.97032201, 0.81971638, 0.72925808, 0.19777234, 0.12814239,\n",
       "        0.74127449, 0.19178215, 0.12818708]])"
      ]
     },
     "execution_count": 35,
     "metadata": {},
     "output_type": "execute_result"
    }
   ],
   "source": [
    "some_data = train_data.iloc[:5]\n",
    "some_labels = train_labels.iloc[:5]\n",
    "some_data_prepared = pipeline.transform(some_data)\n",
    "\n",
    "some_data_prepared"
   ]
  },
  {
   "cell_type": "code",
   "execution_count": 36,
   "metadata": {},
   "outputs": [
    {
     "name": "stdout",
     "output_type": "stream",
     "text": [
      "Labels:  [53886.995, 53887.015, 53887.035, 53887.056, 53887.078]\n"
     ]
    }
   ],
   "source": [
    "print(\"Labels: \", list(some_labels))"
   ]
  },
  {
   "cell_type": "code",
   "execution_count": 37,
   "metadata": {},
   "outputs": [
    {
     "name": "stdout",
     "output_type": "stream",
     "text": [
      "Training Error:  3.9224833420591514\n",
      "Validation Error:  7.8167085209976195\n"
     ]
    }
   ],
   "source": [
    "train_predictions = lin_reg.predict(train_prepared)\n",
    "lin_rmse = rmse(train_labels, train_predictions)\n",
    "print(\"Training Error: \", lin_rmse)\n",
    "\n",
    "valid_data_prepared = pipeline.transform(valid_data)\n",
    "valid_predictions = lin_reg.predict(valid_data_prepared)\n",
    "lin_valid_rmse = rmse(valid_labels, valid_predictions)\n",
    "print(\"Validation Error: \", lin_valid_rmse)"
   ]
  },
  {
   "cell_type": "markdown",
   "metadata": {},
   "source": [
    "### Decision Tree Regression"
   ]
  },
  {
   "cell_type": "code",
   "execution_count": 38,
   "metadata": {},
   "outputs": [
    {
     "data": {
      "text/plain": [
       "DecisionTreeRegressor(criterion='mse', max_depth=None, max_features=None,\n",
       "           max_leaf_nodes=None, min_impurity_decrease=0.0,\n",
       "           min_impurity_split=None, min_samples_leaf=1,\n",
       "           min_samples_split=2, min_weight_fraction_leaf=0.0,\n",
       "           presort=False, random_state=42, splitter='best')"
      ]
     },
     "execution_count": 38,
     "metadata": {},
     "output_type": "execute_result"
    }
   ],
   "source": [
    "from sklearn.tree import DecisionTreeRegressor\n",
    "\n",
    "tree_reg = DecisionTreeRegressor(random_state=42)\n",
    "tree_reg.fit(train_prepared, train_labels)"
   ]
  },
  {
   "cell_type": "code",
   "execution_count": 39,
   "metadata": {},
   "outputs": [
    {
     "name": "stdout",
     "output_type": "stream",
     "text": [
      "Training Error:  5.6148596253210676e-05\n",
      "Validation Error:  21.282219837554454\n"
     ]
    }
   ],
   "source": [
    "tree_train_predictions = tree_reg.predict(train_prepared)\n",
    "tree_rmse = rmse(train_labels, tree_train_predictions)\n",
    "print(\"Training Error: \", tree_rmse)\n",
    "\n",
    "tree_valid_predictions = tree_reg.predict(valid_data_prepared)\n",
    "tree_valid_rmse = rmse(valid_labels, tree_valid_predictions)\n",
    "print(\"Validation Error: \", tree_valid_rmse)"
   ]
  },
  {
   "cell_type": "markdown",
   "metadata": {},
   "source": [
    "### Model comparison"
   ]
  },
  {
   "cell_type": "markdown",
   "metadata": {},
   "source": [
    "The linear regression model has a training error 3.9 nT and validation error 7.8 nT. The decision tree has a training error less than 1e-4 nT, but a validation error of 21 nT. This suggests a decision tree can learn a more complicated function, but is likely overfitting to the training data. Cross-validation may be useful in training and evaluating models, but some care needs to be taken for time series data. "
   ]
  },
  {
   "cell_type": "markdown",
   "metadata": {},
   "source": [
    "## Fine-tune your model"
   ]
  },
  {
   "cell_type": "markdown",
   "metadata": {},
   "source": [
    "Linear regression has no hyperparameters to tune, so there is no need for fine-tuning. Ridge regression adds L2 weight regularization terms to linear regression, but a quick grid search doesn't show any improvement. Given the extensive nonlinear data processing in the direction cosines, this may not be too surprising. Additional feature engineering, for example taking the derivatives of the direction cosines which are used in Tolles-Lawson, may be helpful. "
   ]
  },
  {
   "cell_type": "code",
   "execution_count": 40,
   "metadata": {},
   "outputs": [
    {
     "name": "stdout",
     "output_type": "stream",
     "text": [
      "Ridge Parameter:  1e-08\n",
      "Training Error:  3.9224839076148585\n",
      "Validation Error:  7.818367084960964\n",
      "Ridge Parameter:  3.162277660168379e-08\n",
      "Training Error:  3.9224889585970124\n",
      "Validation Error:  7.821941316372323\n",
      "Ridge Parameter:  1e-07\n",
      "Training Error:  3.922538301809136\n",
      "Validation Error:  7.833136646210716\n",
      "Ridge Parameter:  3.162277660168379e-07\n",
      "Training Error:  3.9229975683459855\n",
      "Validation Error:  7.8675025494015305\n",
      "Ridge Parameter:  1e-06\n",
      "Training Error:  3.9267270797521596\n",
      "Validation Error:  7.9668513409155475\n",
      "Ridge Parameter:  3.162277660168379e-06\n",
      "Training Error:  3.9488546900926513\n",
      "Validation Error:  8.212479571301513\n",
      "Ridge Parameter:  1e-05\n",
      "Training Error:  4.0331884314984\n",
      "Validation Error:  8.670760464316869\n"
     ]
    }
   ],
   "source": [
    "from sklearn.linear_model import Ridge\n",
    "\n",
    "for alpha in np.logspace(-8, -5, 7, endpoint=True):\n",
    "    ridge_reg = Ridge(alpha=alpha)\n",
    "    ridge_reg.fit(train_prepared, train_labels)\n",
    "    train_predictions = ridge_reg.predict(train_prepared)\n",
    "    ridge_rmse = rmse(train_labels, train_predictions)\n",
    "    valid_predictions = ridge_reg.predict(valid_data_prepared)\n",
    "    ridge_valid_rmse = rmse(valid_labels, valid_predictions)\n",
    "    print(\"Ridge Parameter: \", alpha)\n",
    "    print(\"Training Error: \", ridge_rmse)\n",
    "    print(\"Validation Error: \", ridge_valid_rmse)\n"
   ]
  },
  {
   "cell_type": "code",
   "execution_count": 41,
   "metadata": {},
   "outputs": [],
   "source": [
    "import pickle\n",
    "\n",
    "lin_reg_model = pickle.dumps(lin_reg)"
   ]
  },
  {
   "cell_type": "code",
   "execution_count": 42,
   "metadata": {},
   "outputs": [],
   "source": [
    "final_model = pickle.loads(lin_reg_model)"
   ]
  },
  {
   "cell_type": "code",
   "execution_count": 43,
   "metadata": {},
   "outputs": [
    {
     "name": "stdout",
     "output_type": "stream",
     "text": [
      "Training Error:  3.9224833420591514\n",
      "Validation Error:  7.8167085209976195\n",
      "Test Error:  4.6436832280107945\n"
     ]
    }
   ],
   "source": [
    "test_prepared = pipeline.transform(test_data)\n",
    "test_predictions = final_model.predict(test_prepared)\n",
    "test_rmse = rmse(test_labels, test_predictions)\n",
    "print(\"Training Error: \", lin_rmse)\n",
    "print(\"Validation Error: \", lin_valid_rmse)\n",
    "print(\"Test Error: \", test_rmse)"
   ]
  },
  {
   "cell_type": "markdown",
   "metadata": {},
   "source": [
    "## Present your solution"
   ]
  },
  {
   "cell_type": "markdown",
   "metadata": {},
   "source": [
    "Document and present with clear visualizations and easy to remember statements\n",
    "- What you have learned\n",
    "- What worked and what did not\n",
    "- What assumptions were made\n",
    "- What system limitations exist"
   ]
  },
  {
   "cell_type": "markdown",
   "metadata": {},
   "source": [
    "Here are some plots comparing the final model results with the input and true values"
   ]
  },
  {
   "cell_type": "code",
   "execution_count": 44,
   "metadata": {},
   "outputs": [
    {
     "data": {
      "text/plain": [
       "<matplotlib.legend.Legend at 0x7fc754201160>"
      ]
     },
     "execution_count": 44,
     "metadata": {},
     "output_type": "execute_result"
    },
    {
     "data": {
      "image/png": "[encoded data removed]",
      "text/plain": [
       "<Figure size 432x288 with 1 Axes>"
      ]
     },
     "metadata": {
      "needs_background": "light"
     },
     "output_type": "display_data"
    }
   ],
   "source": [
    "predictions = np.r_[train_predictions, valid_predictions, test_predictions]\n",
    "for cat in ['mag_1_c', 'mag_3_TL']:\n",
    "    plt.plot(df[cat] - df[cat].mean(), label=cat)\n",
    "plt.plot(predictions - predictions.mean(), label='mag_3_c')\n",
    "plt.legend()"
   ]
  },
  {
   "cell_type": "code",
   "execution_count": 45,
   "metadata": {},
   "outputs": [
    {
     "data": {
      "text/plain": [
       "Text(11000, 13, 'Test')"
      ]
     },
     "execution_count": 45,
     "metadata": {},
     "output_type": "execute_result"
    },
    {
     "data": {
      "image/png": "[encoded data removed]",
      "text/plain": [
       "<Figure size 432x288 with 1 Axes>"
      ]
     },
     "metadata": {
      "needs_background": "light"
     },
     "output_type": "display_data"
    }
   ],
   "source": [
    "residuals = predictions - df['mag_1_c'].values\n",
    "plt.plot(residuals, label='residuals')\n",
    "plt.axvline(valid_set.index[0], ls='--', c='orange')\n",
    "plt.axvline(test_set.index[0], ls='--', c='orange')\n",
    "plt.text(3000, 13, 'Train')\n",
    "plt.text(7600, 13, 'Validation')\n",
    "plt.text(11000, 13, 'Test')"
   ]
  },
  {
   "cell_type": "markdown",
   "metadata": {},
   "source": [
    "## Launch, monitor, and maintain your system"
   ]
  },
  {
   "cell_type": "markdown",
   "metadata": {},
   "source": [
    "Get the solution ready for launch\n",
    "- Polish the code\n",
    "- Write documentation and tests\n",
    "- Load onto a device on the next data collection flight!"
   ]
  },
  {
   "cell_type": "markdown",
   "metadata": {},
   "source": [
    "# Project Ideas "
   ]
  },
  {
   "cell_type": "markdown",
   "metadata": {},
   "source": [
    "- Explore the data in different ways such as autocorrelation analysis (see e.g. https://pandas.pydata.org/pandas-docs/stable/user_guide/visualization.html)\n",
    "- Experiment with other regression algorithms such as support vector machines or neural networks (see e.g. scikit-learn User Guide for Supervised Learning (https://scikit-learn.org/stable/supervised_learning.html))\n",
    "- Create a similar end-to-end machine learning project using Mag 5, which is noisier than Mag 3. (You'll need to export the Tolles-Lawson compensated values, so let me know if you need help with this)\n",
    "- Instead of using a validation set, use cross-validation which trains models on different subsets of the data to estimate performance\n",
    "- Try different ensemble learning techniques (see e.g. Ch 7 of Hands-on Machine Learning and [corresponding notebook](https://github.com/ageron/handson-ml2/blob/master/07_ensemble_learning_and_random_forests.ipynb))\n",
    "- Experiment with neural networks using your deep learning library of choice"
   ]
  },
  {
   "cell_type": "code",
   "execution_count": null,
   "metadata": {},
   "outputs": [],
   "source": []
  }
 ],
 "metadata": {
  "kernelspec": {
   "display_name": "Python [conda env:root] *",
   "language": "python",
   "name": "conda-root-py"
  },
  "language_info": {
   "codemirror_mode": {
    "name": "ipython",
    "version": 3
   },
   "file_extension": ".py",
   "mimetype": "text/x-python",
   "name": "python",
   "nbconvert_exporter": "python",
   "pygments_lexer": "ipython3",
   "version": "3.6.9"
  },
  "latex_envs": {
   "LaTeX_envs_menu_present": true,
   "autoclose": false,
   "autocomplete": true,
   "bibliofile": "biblio.bib",
   "cite_by": "apalike",
   "current_citInitial": 1,
   "eqLabelWithNumbers": true,
   "eqNumInitial": 1,
   "hotkeys": {
    "equation": "Ctrl-E",
    "itemize": "Ctrl-I"
   },
   "labels_anchors": false,
   "latex_user_defs": false,
   "report_style_numbering": false,
   "user_envs_cfg": false
  },
  "toc": {
   "base_numbering": "0",
   "nav_menu": {},
   "number_sections": true,
   "sideBar": true,
   "skip_h1_title": true,
   "title_cell": "Table of Contents",
   "title_sidebar": "Contents",
   "toc_cell": false,
   "toc_position": {
    "height": "calc(100% - 180px)",
    "left": "10px",
    "top": "150px",
    "width": "165px"
   },
   "toc_section_display": true,
   "toc_window_display": true
  },
  "varInspector": {
   "cols": {
    "lenName": 16,
    "lenType": 16,
    "lenVar": 40
   },
   "kernels_config": {
    "python": {
     "delete_cmd_postfix": "",
     "delete_cmd_prefix": "del ",
     "library": "var_list.py",
     "varRefreshCmd": "print(var_dic_list())"
    },
    "r": {
     "delete_cmd_postfix": ") ",
     "delete_cmd_prefix": "rm(",
     "library": "var_list.r",
     "varRefreshCmd": "cat(var_dic_list()) "
    }
   },
   "types_to_exclude": [
    "module",
    "function",
    "builtin_function_or_method",
    "instance",
    "_Feature"
   ],
   "window_display": false
  }
 },
 "nbformat": 4,
 "nbformat_minor": 2
}
