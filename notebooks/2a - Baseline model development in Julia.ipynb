{
 "cells": [
  {
   "cell_type": "markdown",
   "metadata": {},
   "source": [
    "# Data Exploration and Baseline Calibration"
   ]
  },
  {
   "cell_type": "markdown",
   "metadata": {},
   "source": [
    "## Import Packages"
   ]
  },
  {
   "cell_type": "code",
   "execution_count": 3,
   "metadata": {},
   "outputs": [
    {
     "name": "stderr",
     "output_type": "stream",
     "text": [
      "\u001b[32m\u001b[1m  Activating\u001b[22m\u001b[39m project at `c:\\Users\\taylo\\Documents\\GitHub\\MagNav_v2.jl`\n",
      "\u001b[32m\u001b[1m    Updating\u001b[22m\u001b[39m registry at `C:\\Users\\taylo\\.julia\\registries\\General`\n",
      "\u001b[32m\u001b[1m    Updating\u001b[22m\u001b[39m git-repo `https://github.com/JuliaRegistries/General.git`\n",
      "\u001b[32m\u001b[1m   Installed\u001b[22m\u001b[39m StructArrays ─── v0.6.4\n",
      "\u001b[32m\u001b[1m   Installed\u001b[22m\u001b[39m Polynomials ──── v2.0.24\n",
      "\u001b[32m\u001b[1m   Installed\u001b[22m\u001b[39m ChainRulesCore ─ v1.11.5\n",
      "\u001b[32m\u001b[1m   Installed\u001b[22m\u001b[39m ChainRules ───── v1.20.0\n",
      "\u001b[32m\u001b[1m  No Changes\u001b[22m\u001b[39m to `C:\\Users\\taylo\\Documents\\GitHub\\MagNav_v2.jl\\Project.toml`\n",
      "\u001b[32m\u001b[1m    Updating\u001b[22m\u001b[39m `C:\\Users\\taylo\\Documents\\GitHub\\MagNav_v2.jl\\Manifest.toml`\n",
      " \u001b[90m [082447d4] \u001b[39m\u001b[93m↑ ChainRules v1.18.1 ⇒ v1.20.0\u001b[39m\n",
      " \u001b[90m [d360d2e6] \u001b[39m\u001b[93m↑ ChainRulesCore v1.11.4 ⇒ v1.11.5\u001b[39m\n",
      " \u001b[90m [f27b6e38] \u001b[39m\u001b[93m↑ Polynomials v2.0.22 ⇒ v2.0.24\u001b[39m\n",
      " \u001b[90m [09ab397b] \u001b[39m\u001b[93m↑ StructArrays v0.6.3 ⇒ v0.6.4\u001b[39m\n",
      "\u001b[32m\u001b[1mPrecompiling\u001b[22m\u001b[39m project...\n",
      "\u001b[32m  ✓ \u001b[39m\u001b[90mChainRulesCore\u001b[39m\n",
      "\u001b[32m  ✓ \u001b[39m\u001b[90mAbstractFFTs\u001b[39m\n",
      "\u001b[32m  ✓ \u001b[39m\u001b[90mStructArrays\u001b[39m\n",
      "\u001b[32m  ✓ \u001b[39m\u001b[90mChangesOfVariables\u001b[39m\n",
      "\u001b[32m  ✓ \u001b[39m\u001b[90mLogExpFunctions\u001b[39m\n",
      "\u001b[32m  ✓ \u001b[39m\u001b[90mPolynomials\u001b[39m\n",
      "\u001b[32m  ✓ \u001b[39mInterpolations\n",
      "\u001b[32m  ✓ \u001b[39m\u001b[90mNNlib\u001b[39m\n",
      "\u001b[32m  ✓ \u001b[39m\u001b[90mStatsBase\u001b[39m\n",
      "\u001b[32m  ✓ \u001b[39m\u001b[90mChainRules\u001b[39m\n",
      "\u001b[32m  ✓ \u001b[39mFFTW\n",
      "\u001b[32m  ✓ \u001b[39m\u001b[90mSpecialFunctions\u001b[39m\n",
      "\u001b[32m  ✓ \u001b[39m\u001b[90mGeometryBasics\u001b[39m\n",
      "\u001b[32m  ✓ \u001b[39m\u001b[90mDiffRules\u001b[39m\n",
      "\u001b[32m  ✓ \u001b[39mForwardDiff\n",
      "\u001b[32m  ✓ \u001b[39mDSP\n",
      "\u001b[32m  ✓ \u001b[39m\u001b[90mZygote\u001b[39m\n",
      "\u001b[32m  ✓ \u001b[39mPlots\n",
      "\u001b[32m  ✓ \u001b[39m\u001b[90mCUDA\u001b[39m\n",
      "\u001b[32m  ✓ \u001b[39m\u001b[90mNNlibCUDA\u001b[39m\n",
      "\u001b[32m  ✓ \u001b[39mFlux\n",
      "\u001b[32m  ✓ \u001b[39mMagNav\n",
      "  22 dependencies successfully precompiled in 76 seconds (168 already precompiled)\n"
     ]
    },
    {
     "data": {
      "text/plain": [
       "Plots.GRBackend()"
      ]
     },
     "metadata": {},
     "output_type": "display_data"
    }
   ],
   "source": [
    "using Pkg; Pkg.activate(\"../\"); Pkg.update(); Pkg.instantiate()\n",
    "using MagNav\n",
    "using Plots\n",
    "gr()"
   ]
  },
  {
   "cell_type": "markdown",
   "metadata": {},
   "source": [
    "## Get flight data"
   ]
  },
  {
   "cell_type": "code",
   "execution_count": 4,
   "metadata": {},
   "outputs": [
    {
     "name": "stdout",
     "output_type": "stream",
     "text": [
      "\n",
      "> Reading in file: ../data//Flt1002-train.h5\n",
      "WARNING: radar contains NaNs\n",
      "WARNING: topo contains NaNs\n",
      "WARNING: drape contains NaNs\n",
      "WARNING: ogs_mag contains NaNs\n",
      "WARNING: ogs_alt contains NaNs\n"
     ]
    }
   ],
   "source": [
    "data_dir  = \"../data/\"\n",
    "data_file = string(data_dir,\"/Flt1002-train.h5\")\n",
    "xyz_data  = get_flight_data(data_file);"
   ]
  },
  {
   "cell_type": "markdown",
   "metadata": {},
   "source": [
    "Take a look at the fields of the `XYZ` struct, either in `MagNav.jl` module or right in this notebook. "
   ]
  },
  {
   "cell_type": "code",
   "execution_count": 5,
   "metadata": {},
   "outputs": [
    {
     "data": {
      "text/plain": [
       "(:N, :DT, :LINE, :FLT, :TIME, :UTM_X, :UTM_Y, :UTM_Z, :MSL_Z, :LAT, :LONG, :BARO, :RADAR, :TOPO, :DEM, :DRAPE, :PITCH, :ROLL, :AZIMUTH, :DIURNAL, :COMPMAG1, :LAGMAG1, :DCMAG1, :IGRFMAG1, :UNCOMPMAG1, :UNCOMPMAG2, :UNCOMPMAG3, :UNCOMPMAG4, :UNCOMPMAG5, :FLUXB_X, :FLUXB_Y, :FLUXB_Z, :FLUXB_TOT, :FLUXC_X, :FLUXC_Y, :FLUXC_Z, :FLUXC_TOT, :FLUXD_X, :FLUXD_Y, :FLUXD_Z, :FLUXD_TOT, :OGS_MAG, :OGS_HGT, :INS_ACC_X, :INS_ACC_Y, :INS_ACC_Z, :INS_WANDER, :INS_LAT, :INS_LON, :INS_HGT, :INS_VEL_N, :INS_VEL_W, :INS_VEL_V, :PITCHRT, :ROLLRT, :YAWRT, :LONG_ACC, :LAT_ACC, :NORM_ACC, :TRUE_AS, :PITOT_P, :STATIC_P, :TOT_P, :CUR_COM1, :CUR_ACHi, :CUR_ACLo, :CUR_TANK, :CUR_FLAP, :CUR_STRB, :CUR_SRVO_O, :CUR_SRVO_M, :CUR_SRVO_I, :CUR_IHTR, :CUR_ACPWR, :CUR_OUTPWR, :CUR_BAT1, :CUR_BAT2, :V_ACPWR, :V_OUTPWR, :V_BAT1, :V_BAT2, :V_RESp, :V_RESn, :V_BACKp, :V_BACKn, :V_GYRO1, :V_GYRO2, :V_ACCp, :V_ACCn, :V_BLOCK, :V_BACK, :V_SERVO, :V_CABT, :V_FAN)"
      ]
     },
     "metadata": {},
     "output_type": "display_data"
    }
   ],
   "source": [
    "fieldnames(MagNav.XYZ)"
   ]
  },
  {
   "cell_type": "markdown",
   "metadata": {},
   "source": [
    "## Tolles-Lawson Calibration"
   ]
  },
  {
   "cell_type": "code",
   "execution_count": 6,
   "metadata": {},
   "outputs": [
    {
     "data": {
      "text/plain": [
       "(12702, 25002)"
      ]
     },
     "metadata": {},
     "output_type": "display_data"
    }
   ],
   "source": [
    "# define line numbers for Compensation 1 segment, this is the segment that generates the \"intial\" Tolles Lawson calibration\n",
    "i1         = findfirst(xyz_data.LINE .== 1002.02)\n",
    "i2         = findlast( xyz_data.LINE .== 1002.02)\n",
    "i1, i2"
   ]
  },
  {
   "cell_type": "code",
   "execution_count": 7,
   "metadata": {},
   "outputs": [
    {
     "data": {
      "text/plain": [
       "18-element Vector{Float64}:\n",
       "  225.5485247927409\n",
       "  337.1809350176073\n",
       "  -76.2120948543329\n",
       "  531.9068878175069\n",
       "  195.69987382838244\n",
       " -277.7918811320834\n",
       "  539.5741774120652\n",
       " -225.89452517872803\n",
       "  923.2693316470381\n",
       " 4469.906155680168\n",
       " 1550.0247557993712\n",
       "  694.9310104918216\n",
       " 1541.3023848836708\n",
       " 4652.449079079208\n",
       "  329.03857171710956\n",
       "  174.46696067279544\n",
       "  188.068023291705\n",
       " 6513.13686776687"
      ]
     },
     "metadata": {},
     "output_type": "display_data"
    }
   ],
   "source": [
    "## create Tolles-Lawson coefficients\n",
    "pass1 = 0.1  # first  passband frequency [Hz]\n",
    "pass2 = 0.9  # second passband frequency [Hz]\n",
    "fs    = 10.0 # sampling frequency [Hz]\n",
    "TL_coef_1  = create_TL_coef(xyz_data.FLUXB_X[i1:i2],\n",
    "                            xyz_data.FLUXB_Y[i1:i2],\n",
    "                            xyz_data.FLUXB_Z[i1:i2],\n",
    "                            xyz_data.UNCOMPMAG1[i1:i2];\n",
    "                            pass1=pass1,pass2=pass2,fs=fs)\n",
    "TL_coef_3  = create_TL_coef(xyz_data.FLUXB_X[i1:i2],\n",
    "                            xyz_data.FLUXB_Y[i1:i2],\n",
    "                            xyz_data.FLUXB_Z[i1:i2],\n",
    "                            xyz_data.UNCOMPMAG3[i1:i2];\n",
    "                            pass1=pass1,pass2=pass2,fs=fs)\n",
    "TL_coef_5  = create_TL_coef(xyz_data.FLUXB_X[i1:i2],\n",
    "                            xyz_data.FLUXB_Y[i1:i2],\n",
    "                            xyz_data.FLUXB_Z[i1:i2],\n",
    "                            xyz_data.UNCOMPMAG5[i1:i2];\n",
    "                            pass1=pass1,pass2=pass2,fs=fs)\n"
   ]
  },
  {
   "cell_type": "code",
   "execution_count": 8,
   "metadata": {},
   "outputs": [],
   "source": [
    "## create Tolles-Lawson A matrix\n",
    "A = create_TL_A(xyz_data.FLUXB_X,\n",
    "                xyz_data.FLUXB_Y,\n",
    "                xyz_data.FLUXB_Z);"
   ]
  },
  {
   "cell_type": "code",
   "execution_count": 9,
   "metadata": {},
   "outputs": [],
   "source": [
    "## calibrated magnetometer measurements\n",
    "mag_1_c = xyz_data.UNCOMPMAG1 - A*TL_coef_1 .+ mean(A*TL_coef_1); # Truth Signal\n",
    "mag_3_c = xyz_data.UNCOMPMAG3 - A*TL_coef_3 .+ mean(A*TL_coef_3); # Medium Difficulty\n",
    "mag_5_c = xyz_data.UNCOMPMAG5 - A*TL_coef_5 .+ mean(A*TL_coef_5); # Easy Difficulty"
   ]
  },
  {
   "cell_type": "code",
   "execution_count": 10,
   "metadata": {},
   "outputs": [
    {
     "name": "stderr",
     "output_type": "stream",
     "text": [
      "\u001b[32m\u001b[1m   Resolving\u001b[22m\u001b[39m package versions...\n",
      "\u001b[32m\u001b[1m  No Changes\u001b[22m\u001b[39m to `C:\\Users\\taylo\\Documents\\GitHub\\MagNav_v2.jl\\Project.toml`\n",
      "\u001b[32m\u001b[1m  No Changes\u001b[22m\u001b[39m to `C:\\Users\\taylo\\Documents\\GitHub\\MagNav_v2.jl\\Manifest.toml`\n"
     ]
    }
   ],
   "source": [
    "import Pkg; Pkg.add(\"Flux\") # unnecessary if your julia environment has flux already\n",
    "using Flux"
   ]
  },
  {
   "cell_type": "markdown",
   "metadata": {},
   "source": [
    "## Basic Dense Model\n",
    "This is a basic feed forward neural network. It shouldn't work as it isn't using windowing or anything complicated but there's quite a bit that can be done here if you're willing to involve multiple fields or incorporate time to some extent\n",
    "\n",
    "an article about a similar network is available at https://fluxml.ai/tutorials/2021/01/26/mlp.html\n",
    "\n",
    "General Background about the training loop implementation : https://github.com/FluxML/Flux.jl/blob/master/docs/src/training/training.md"
   ]
  },
  {
   "cell_type": "code",
   "execution_count": 11,
   "metadata": {},
   "outputs": [
    {
     "data": {
      "text/plain": [
       "Chain(\n",
       "  Dense(1, 32),                         \u001b[90m# 64 parameters\u001b[39m\n",
       "  Dense(32, 1),                         \u001b[90m# 33 parameters\u001b[39m\n",
       ")\u001b[90m                   # Total: 4 arrays, \u001b[39m97 parameters, 644 bytes."
      ]
     },
     "metadata": {},
     "output_type": "display_data"
    }
   ],
   "source": [
    "model = Chain(Dense(1, 32), Dense(32, 1)) # Very Basic Dense Model"
   ]
  },
  {
   "cell_type": "code",
   "execution_count": 12,
   "metadata": {},
   "outputs": [
    {
     "data": {
      "text/plain": [
       "Dense(1, 32)        \u001b[90m# 64 parameters\u001b[39m"
      ]
     },
     "metadata": {},
     "output_type": "display_data"
    },
    {
     "data": {
      "text/plain": [
       "Dense(32, 1)        \u001b[90m# 33 parameters\u001b[39m"
      ]
     },
     "metadata": {},
     "output_type": "display_data"
    }
   ],
   "source": [
    "display(model.layers[1]) # Displaying layer weights\n",
    "display(model.layers[2])"
   ]
  },
  {
   "cell_type": "code",
   "execution_count": 13,
   "metadata": {},
   "outputs": [],
   "source": [
    "using Flux.Losses: mse\n",
    "function seq_loss(x, y) # Seq2Seq Loss for model\n",
    "    sum(mse(model(xi), yi) for (xi, yi) in zip(x, y))\n",
    "  end;"
   ]
  },
  {
   "cell_type": "code",
   "execution_count": 14,
   "metadata": {},
   "outputs": [
    {
     "data": {
      "text/plain": [
       "1-element Vector{Float32}:\n",
       " -1094.3569"
      ]
     },
     "metadata": {},
     "output_type": "display_data"
    }
   ],
   "source": [
    "a = mag_3_c[1:100]\n",
    "a = Float32.(a)\n",
    "b = model([a[1]])\n",
    "display(b)"
   ]
  },
  {
   "cell_type": "code",
   "execution_count": 15,
   "metadata": {},
   "outputs": [
    {
     "data": {
      "text/plain": [
       "100-element Vector{Float32}:\n",
       " 52784.082\n",
       " 52788.543\n",
       " 52790.887\n",
       " 52788.7\n",
       " 52782.336\n",
       " 52775.2\n",
       " 52772.4\n",
       " 52776.2\n",
       " 52784.11\n",
       " 52792.156\n",
       "     ⋮\n",
       " 52924.242\n",
       " 52933.3\n",
       " 52938.918\n",
       " 52938.844\n",
       " 52932.13\n",
       " 52921.22\n",
       " 52911.5\n",
       " 52907.0\n",
       " 52907.637"
      ]
     },
     "metadata": {},
     "output_type": "display_data"
    },
    {
     "data": {
      "text/plain": [
       "100-element Vector{Float32}:\n",
       " 53516.758\n",
       " 53517.75\n",
       " 53518.77\n",
       " 53519.83\n",
       " 53520.926\n",
       " 53522.047\n",
       " 53523.168\n",
       " 53524.266\n",
       " 53525.344\n",
       " 53526.395\n",
       "     ⋮\n",
       " 53649.95\n",
       " 53651.594\n",
       " 53653.254\n",
       " 53654.938\n",
       " 53656.652\n",
       " 53658.387\n",
       " 53660.13\n",
       " 53661.875\n",
       " 53663.633"
      ]
     },
     "metadata": {},
     "output_type": "display_data"
    }
   ],
   "source": [
    "# Collect Data\n",
    "data = a\n",
    "display(data)\n",
    "truth = Float32.(mag_1_c[1:100])"
   ]
  },
  {
   "cell_type": "code",
   "execution_count": 16,
   "metadata": {},
   "outputs": [
    {
     "data": {
      "text/plain": [
       "ADAM(0.001, (0.9, 0.999), IdDict{Any, Any}())"
      ]
     },
     "metadata": {},
     "output_type": "display_data"
    }
   ],
   "source": [
    "# Select Optimizer\n",
    "opt = Flux.Optimise.ADAM()"
   ]
  },
  {
   "cell_type": "code",
   "execution_count": 17,
   "metadata": {},
   "outputs": [
    {
     "data": {
      "text/plain": [
       "Params([Float32[0.26701033; -0.24281141; … ; 0.041550186; -0.10614136;;], Float32[0.0, 0.0, 0.0, 0.0, 0.0, 0.0, 0.0, 0.0, 0.0, 0.0  …  0.0, 0.0, 0.0, 0.0, 0.0, 0.0, 0.0, 0.0, 0.0, 0.0], Float32[0.104893655 -0.39319044 … -0.38705203 0.4074169], Float32[0.0]])"
      ]
     },
     "metadata": {},
     "output_type": "display_data"
    }
   ],
   "source": [
    "# Grab Parameters\n",
    "params = Flux.params(model)"
   ]
  },
  {
   "cell_type": "code",
   "execution_count": 18,
   "metadata": {},
   "outputs": [],
   "source": [
    "Flux.train!(mse, params, zip(data, truth), opt)"
   ]
  },
  {
   "cell_type": "code",
   "execution_count": 19,
   "metadata": {},
   "outputs": [
    {
     "data": {
      "text/plain": [
       "1-element Vector{Float32}:\n",
       " -1094.3569"
      ]
     },
     "metadata": {},
     "output_type": "display_data"
    },
    {
     "data": {
      "text/plain": [
       "53516.758f0"
      ]
     },
     "metadata": {},
     "output_type": "display_data"
    }
   ],
   "source": [
    "display(model([data[1]]))\n",
    "truth[1]"
   ]
  },
  {
   "cell_type": "markdown",
   "metadata": {},
   "source": [
    "## Basic CNN\n",
    "\n",
    "The data's clearly in the wrong format. For our purposes we'll want vectors and additional features to make each time slice look more like an image. We can go into more depth with windowing if people would like to pursue this.\n",
    "https://fluxml.ai/tutorials/2021/02/07/convnet.html More Details"
   ]
  },
  {
   "cell_type": "markdown",
   "metadata": {},
   "source": [
    "## Basic RNN\n",
    "The data is currently in a format that could work but would only have 1 sample. For this subset I'll slice it up into vectors of length 10 acting as \"windows\" of length 10. You'll need to rework this code to work for your application.\n",
    "\n",
    " a generative RNN example is available at https://fluxml.ai/Flux.jl/v0.2/examples/char-rnn.html"
   ]
  },
  {
   "cell_type": "code",
   "execution_count": 20,
   "metadata": {},
   "outputs": [
    {
     "data": {
      "text/plain": [
       "100-element Vector{Vector{Float32}}:\n",
       " [52784.082]\n",
       " [52788.543]\n",
       " [52790.887]\n",
       " [52788.7]\n",
       " [52782.336]\n",
       " [52775.2]\n",
       " [52772.4]\n",
       " [52776.2]\n",
       " [52784.11]\n",
       " [52792.156]\n",
       " ⋮\n",
       " [52924.242]\n",
       " [52933.3]\n",
       " [52938.918]\n",
       " [52938.844]\n",
       " [52932.13]\n",
       " [52921.22]\n",
       " [52911.5]\n",
       " [52907.0]\n",
       " [52907.637]"
      ]
     },
     "metadata": {},
     "output_type": "display_data"
    },
    {
     "data": {
      "text/plain": [
       "100-element Vector{Vector{Float32}}:\n",
       " [53516.758]\n",
       " [53517.75]\n",
       " [53518.77]\n",
       " [53519.83]\n",
       " [53520.926]\n",
       " [53522.047]\n",
       " [53523.168]\n",
       " [53524.266]\n",
       " [53525.344]\n",
       " [53526.395]\n",
       " ⋮\n",
       " [53649.95]\n",
       " [53651.594]\n",
       " [53653.254]\n",
       " [53654.938]\n",
       " [53656.652]\n",
       " [53658.387]\n",
       " [53660.13]\n",
       " [53661.875]\n",
       " [53663.633]"
      ]
     },
     "metadata": {},
     "output_type": "display_data"
    }
   ],
   "source": [
    "vec_data = [Vector{Float32}([aii]) for aii in data]\n",
    "display(vec_data)\n",
    "vec_truth = [Vector{Float32}([aii]) for aii in truth]"
   ]
  },
  {
   "cell_type": "code",
   "execution_count": 21,
   "metadata": {},
   "outputs": [
    {
     "data": {
      "text/plain": [
       "Chain(\n",
       "  Recur(\n",
       "    RNNCell(1, 32, tanh),               \u001b[90m# 1_120 parameters\u001b[39m\n",
       "  ),\n",
       "  Dense(32, 1),                         \u001b[90m# 33 parameters\u001b[39m\n",
       ")\u001b[90m         # Total: 6 trainable arrays, \u001b[39m1_153 parameters,\n",
       "\u001b[90m          # plus 1 non-trainable, 32 parameters, summarysize \u001b[39m4.871 KiB."
      ]
     },
     "metadata": {},
     "output_type": "display_data"
    },
    {
     "data": {
      "text/plain": [
       "1-element Vector{Float32}:\n",
       " 0.48300937"
      ]
     },
     "metadata": {},
     "output_type": "display_data"
    }
   ],
   "source": [
    "rnn_model = Chain(\n",
    "  RNN(1, 32),\n",
    "  Dense(32, 1))\n",
    "display(rnn_model)\n",
    "# Sanity check our model real quick\n",
    "rnn_model(vec_data[1])"
   ]
  },
  {
   "cell_type": "code",
   "execution_count": 22,
   "metadata": {},
   "outputs": [
    {
     "data": {
      "text/plain": [
       "Params([Float32[0.37760386; -0.36185747; … ; 0.16164973; 0.28453472;;], Float32[0.20654798 -0.24457794 … -0.2517446 0.18415777; 0.22280876 0.20289324 … -0.046928983 -0.1260787; … ; 0.21314496 -0.21629037 … 0.17606473 0.05806192; 0.2755461 -0.092282 … 0.035987414 0.30364904], Float32[0.0, 0.0, 0.0, 0.0, 0.0, 0.0, 0.0, 0.0, 0.0, 0.0  …  0.0, 0.0, 0.0, 0.0, 0.0, 0.0, 0.0, 0.0, 0.0, 0.0], Float32[0.0; 0.0; … ; 0.0; 0.0;;], Float32[0.14366944 -0.058754448 … 0.09121899 -0.035052814], Float32[0.0]])"
      ]
     },
     "metadata": {},
     "output_type": "display_data"
    }
   ],
   "source": [
    "params = Flux.params(rnn_model)"
   ]
  },
  {
   "cell_type": "code",
   "execution_count": 23,
   "metadata": {},
   "outputs": [
    {
     "data": {
      "text/plain": [
       "seq_loss (generic function with 1 method)"
      ]
     },
     "metadata": {},
     "output_type": "display_data"
    }
   ],
   "source": [
    "using Flux.Losses: mse\n",
    "\n",
    "function seq_loss(x, y)\n",
    "  Flux.reset!(rnn_model)\n",
    "  sum(mse(rnn_model(xi), yi) for (xi, yi) in zip(x[2:end], y))\n",
    "  # MSE (Generated Sequence, Truth Sequence)\n",
    "  # Generated Sequence = All outputs of RNN(X) (X is fed into the RNN 1 at a time hence xi iterator preserving state)\n",
    "  # Alternatively Generated = All outputs of RNN(X) after X has been fully fed into the network (Encoder Decoder paradigm) where you feed in X as xi and then a \"start token\" and then feed in your last output until you see an \"end token\" or get the correct # of outputs\n",
    "  # Encoder Decoder setup is used when you're uncertain of the length of the input sequence (I am a student) : English to French 4 words to 3 words\n",
    "  # If you know how long your input, ouput are you don't need to do that\n",
    "end"
   ]
  },
  {
   "cell_type": "code",
   "execution_count": 24,
   "metadata": {},
   "outputs": [
    {
     "data": {
      "text/plain": [
       "2.5779995f10"
      ]
     },
     "metadata": {},
     "output_type": "display_data"
    }
   ],
   "source": [
    "seq_loss(vec_data[1:10], vec_truth[1:10]) # Sanity check sequence loss"
   ]
  },
  {
   "cell_type": "code",
   "execution_count": 25,
   "metadata": {},
   "outputs": [
    {
     "data": {
      "text/plain": [
       "10-element Vector{Vector{Float32}}:\n",
       " [0.48300937]\n",
       " [0.48300937]\n",
       " [0.48300937]\n",
       " [0.48300937]\n",
       " [0.48300937]\n",
       " [0.48300937]\n",
       " [0.48300937]\n",
       " [0.48300937]\n",
       " [0.48300937]\n",
       " [0.48300937]"
      ]
     },
     "metadata": {},
     "output_type": "display_data"
    },
    {
     "data": {
      "text/plain": [
       "10-element Vector{Vector{Float32}}:\n",
       " [53516.758]\n",
       " [53517.75]\n",
       " [53518.77]\n",
       " [53519.83]\n",
       " [53520.926]\n",
       " [53522.047]\n",
       " [53523.168]\n",
       " [53524.266]\n",
       " [53525.344]\n",
       " [53526.395]"
      ]
     },
     "metadata": {},
     "output_type": "display_data"
    }
   ],
   "source": [
    "# Terrible windowing example\n",
    "# Sequence of 100 timestamps\n",
    "# Sequence of 10 timestamp length Sequences so that we can train an RNN to compute \"clean\" magnetic signals in 10 second windows\n",
    "# T1:T10, T2:T11, T3:T12 ... T91:T100 (because you only have 100) - maximizes sequences, better for training\n",
    "# below is T1:T10, T11:T20, ... aka the laziest windows you can make - minimizes the number of times you \"see\" each data point, technically can bias your data\n",
    "\n",
    "# For this data there's 2 major pitfalls\n",
    "# 1 - different tie lines are not necessarily contiguous (gaps in the data in each flight don't mix tielines that have gaps), check for gaps with the dt value\n",
    "# 2 - different flights (please don't take 5 seconds from flight 1002 and mix it with 5 seconds from flight 1003), don't cross the flight streams please.\n",
    "sequence_example = Vector([Vector(Ai) for Ai in eachcol(reshape(vec_data, 10, 10))])\n",
    "sequence_truth = Vector([Vector(Ai) for Ai in eachcol(reshape(vec_truth, 10, 10))])\n",
    "pairs = zip(sequence_example, sequence_truth);\n",
    "display([rnn_model(Ai) for Ai in sequence_example[1]])\n",
    "display(sequence_truth[1])"
   ]
  },
  {
   "cell_type": "code",
   "execution_count": 26,
   "metadata": {},
   "outputs": [],
   "source": [
    "Flux.train!(seq_loss, params, pairs, opt)"
   ]
  },
  {
   "cell_type": "code",
   "execution_count": 30,
   "metadata": {},
   "outputs": [
    {
     "data": {
      "text/plain": [
       "2.577968f10"
      ]
     },
     "metadata": {},
     "output_type": "display_data"
    }
   ],
   "source": [
    "seq_loss(sequence_example[1], sequence_truth[1])"
   ]
  },
  {
   "cell_type": "code",
   "execution_count": 31,
   "metadata": {},
   "outputs": [
    {
     "data": {
      "text/plain": [
       "10-element Vector{Vector{Float32}}:\n",
       " [0.8130375]\n",
       " [0.8130375]\n",
       " [0.8130375]\n",
       " [0.8130375]\n",
       " [0.8130375]\n",
       " [0.8130375]\n",
       " [0.8130375]\n",
       " [0.8130375]\n",
       " [0.8130375]\n",
       " [0.8130375]"
      ]
     },
     "metadata": {},
     "output_type": "display_data"
    },
    {
     "data": {
      "text/plain": [
       "10-element Vector{Vector{Float32}}:\n",
       " [53516.758]\n",
       " [53517.75]\n",
       " [53518.77]\n",
       " [53519.83]\n",
       " [53520.926]\n",
       " [53522.047]\n",
       " [53523.168]\n",
       " [53524.266]\n",
       " [53525.344]\n",
       " [53526.395]"
      ]
     },
     "metadata": {},
     "output_type": "display_data"
    }
   ],
   "source": [
    "display([rnn_model(Ai) for Ai in sequence_example[1]])\n",
    "display(sequence_truth[1])"
   ]
  },
  {
   "cell_type": "markdown",
   "metadata": {},
   "source": [
    "**Example Data Generator**"
   ]
  },
  {
   "cell_type": "code",
   "execution_count": 46,
   "metadata": {},
   "outputs": [
    {
     "name": "stdout",
     "output_type": "stream",
     "text": [
      "\n",
      "> Reading in file: ../data//Flt1002-train.h5\n",
      "WARNING: radar contains NaNs\n",
      "WARNING: topo contains NaNs\n",
      "WARNING: drape contains NaNs\n",
      "WARNING: ogs_mag contains NaNs\n",
      "WARNING: ogs_alt contains NaNs\n"
     ]
    },
    {
     "data": {
      "text/plain": [
       "28-element Vector{Float64}:\n",
       " 1002.01\n",
       " 1002.02\n",
       " 1002.03\n",
       "  158.0\n",
       " 1002.04\n",
       "  160.0\n",
       " 1002.05\n",
       " 1367.0\n",
       " 1002.06\n",
       " 1368.0\n",
       "    ⋮\n",
       " 1002.13\n",
       " 1002.14\n",
       " 1002.15\n",
       " 1002.16\n",
       " 1002.17\n",
       " 1002.18\n",
       " 1002.19\n",
       " 1002.2\n",
       " 1002.21"
      ]
     },
     "metadata": {},
     "output_type": "display_data"
    }
   ],
   "source": [
    "# Grab all of the tielines in the datafile\n",
    "data_dir  = \"../data/\"\n",
    "data_file = string(data_dir,\"/Flt1002-train.h5\")\n",
    "xyz_data  = get_flight_data(data_file);\n",
    "a = xyz_data.LINE\n",
    "tielines = unique(a)"
   ]
  },
  {
   "cell_type": "code",
   "execution_count": 62,
   "metadata": {},
   "outputs": [
    {
     "data": {
      "text/plain": [
       "Chain(\n",
       "  Recur(\n",
       "    RNNCell(1, 32, tanh),               \u001b[90m# 1_120 parameters\u001b[39m\n",
       "  ),\n",
       "  Dense(32, 1),                         \u001b[90m# 33 parameters\u001b[39m\n",
       ")\u001b[90m         # Total: 6 trainable arrays, \u001b[39m1_153 parameters,\n",
       "\u001b[90m          # plus 1 non-trainable, 32 parameters, summarysize \u001b[39m4.871 KiB."
      ]
     },
     "metadata": {},
     "output_type": "display_data"
    },
    {
     "data": {
      "text/plain": [
       "ADAM(0.001, (0.9, 0.999), IdDict{Any, Any}())"
      ]
     },
     "metadata": {},
     "output_type": "display_data"
    }
   ],
   "source": [
    "# Model setup\n",
    "rnn_model = Chain(\n",
    "  RNN(1, 32),\n",
    "  Dense(32, 1))\n",
    "display(rnn_model)\n",
    "\n",
    "# Grab Parameters\n",
    "params = Flux.params(rnn_model)\n",
    "\n",
    "# Build Loss\n",
    "function seq_loss(x, y)\n",
    "  Flux.reset!(rnn_model)\n",
    "  sum(mse(rnn_model(xi), yi) for (xi, yi) in zip(x[2:end], y))\n",
    "end\n",
    "\n",
    "# Select Optimizer\n",
    "opt = Flux.Optimise.ADAM()"
   ]
  },
  {
   "cell_type": "code",
   "execution_count": 61,
   "metadata": {},
   "outputs": [],
   "source": [
    "windowsize = 10 # Set windowsize to 10 seconds\n",
    "float32_data = Float32.(mag_5_c) # Type conversions\n",
    "float32_truth = Float32.(mag_1_c) \n",
    "for tieline in a\n",
    "    i1         = findfirst(xyz_data.LINE .== tieline)\n",
    "    i2         = findlast(xyz_data.LINE .== tieline)\n",
    "    if i2-i1 < windowsize # Ensure minimum window, could be combined with the iterator if you like\n",
    "        continue\n",
    "    end\n",
    "    window_starts = i1:(i2-windowsize)\n",
    "    for i in window_starts\n",
    "        data = Vector([Vector{Float32}([Ai]) for Ai in float32_data[i:i+windowsize-1]]) # Datatype massaging, 1 indexing\n",
    "        truth = Vector([Vector{Float32}([Ai]) for Ai in float32_truth[i:i+windowsize-1]])\n",
    "        grads = Flux.gradient(params) do \n",
    "            seq_loss([data,truth]...)\n",
    "        end\n",
    "        Flux.Optimise.update!(opt, params, grads)\n",
    "    end\n",
    "end"
   ]
  },
  {
   "cell_type": "code",
   "execution_count": null,
   "metadata": {},
   "outputs": [],
   "source": []
  }
 ],
 "metadata": {
  "kernelspec": {
   "display_name": "Julia 1.7.1",
   "language": "julia",
   "name": "julia-1.7"
  },
  "language_info": {
   "file_extension": ".jl",
   "mimetype": "application/julia",
   "name": "julia",
   "version": "1.7.1"
  },
  "latex_envs": {
   "LaTeX_envs_menu_present": true,
   "autoclose": false,
   "autocomplete": true,
   "bibliofile": "biblio.bib",
   "cite_by": "apalike",
   "current_citInitial": 1,
   "eqLabelWithNumbers": true,
   "eqNumInitial": 1,
   "hotkeys": {
    "equation": "Ctrl-E",
    "itemize": "Ctrl-I"
   },
   "labels_anchors": false,
   "latex_user_defs": false,
   "report_style_numbering": false,
   "user_envs_cfg": false
  },
  "toc": {
   "base_numbering": 1,
   "nav_menu": {},
   "number_sections": true,
   "sideBar": true,
   "skip_h1_title": false,
   "title_cell": "Table of Contents",
   "title_sidebar": "Contents",
   "toc_cell": false,
   "toc_position": {},
   "toc_section_display": true,
   "toc_window_display": false
  },
  "varInspector": {
   "cols": {
    "lenName": 16,
    "lenType": 16,
    "lenVar": 40
   },
   "kernels_config": {
    "python": {
     "delete_cmd_postfix": "",
     "delete_cmd_prefix": "del ",
     "library": "var_list.py",
     "varRefreshCmd": "print(var_dic_list())"
    },
    "r": {
     "delete_cmd_postfix": ") ",
     "delete_cmd_prefix": "rm(",
     "library": "var_list.r",
     "varRefreshCmd": "cat(var_dic_list()) "
    }
   },
   "types_to_exclude": [
    "module",
    "function",
    "builtin_function_or_method",
    "instance",
    "_Feature"
   ],
   "window_display": false
  }
 },
 "nbformat": 4,
 "nbformat_minor": 2
}
